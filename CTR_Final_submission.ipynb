{
 "cells": [
  {
   "cell_type": "markdown",
   "id": "e9b680a2",
   "metadata": {},
   "source": [
    "# To Build Machine learning approach to predict the CTR ('click_rate') of an email compaign...."
   ]
  },
  {
   "cell_type": "code",
   "execution_count": 1,
   "id": "2efa47e5",
   "metadata": {},
   "outputs": [],
   "source": [
    "# import all required libraries \n",
    "import pandas as pd\n",
    "import numpy as np\n",
    "import matplotlib.pyplot as plt \n",
    "import seaborn as sns\n",
    "from sklearn.linear_model import LinearRegression\n",
    "from sklearn.metrics import r2_score\n",
    "%matplotlib inline\n",
    "import warnings\n",
    "warnings.filterwarnings('ignore')"
   ]
  },
  {
   "cell_type": "code",
   "execution_count": 2,
   "id": "1f93f059",
   "metadata": {},
   "outputs": [],
   "source": [
    "# fetch data from system\n",
    "t_data=pd.read_csv('train_F3fUq2S.csv')"
   ]
  },
  {
   "cell_type": "code",
   "execution_count": 3,
   "id": "ca186eb9",
   "metadata": {},
   "outputs": [],
   "source": [
    "test_data=pd.read_csv('test_Bk2wfZ3.csv')"
   ]
  },
  {
   "cell_type": "code",
   "execution_count": 4,
   "id": "55afb049",
   "metadata": {},
   "outputs": [
    {
     "data": {
      "text/html": [
       "<div>\n",
       "<style scoped>\n",
       "    .dataframe tbody tr th:only-of-type {\n",
       "        vertical-align: middle;\n",
       "    }\n",
       "\n",
       "    .dataframe tbody tr th {\n",
       "        vertical-align: top;\n",
       "    }\n",
       "\n",
       "    .dataframe thead th {\n",
       "        text-align: right;\n",
       "    }\n",
       "</style>\n",
       "<table border=\"1\" class=\"dataframe\">\n",
       "  <thead>\n",
       "    <tr style=\"text-align: right;\">\n",
       "      <th></th>\n",
       "      <th>campaign_id</th>\n",
       "      <th>sender</th>\n",
       "      <th>subject_len</th>\n",
       "      <th>body_len</th>\n",
       "      <th>mean_paragraph_len</th>\n",
       "      <th>day_of_week</th>\n",
       "      <th>is_weekend</th>\n",
       "      <th>times_of_day</th>\n",
       "      <th>category</th>\n",
       "      <th>product</th>\n",
       "      <th>...</th>\n",
       "      <th>is_image</th>\n",
       "      <th>is_personalised</th>\n",
       "      <th>is_quote</th>\n",
       "      <th>is_timer</th>\n",
       "      <th>is_emoticons</th>\n",
       "      <th>is_discount</th>\n",
       "      <th>is_price</th>\n",
       "      <th>is_urgency</th>\n",
       "      <th>target_audience</th>\n",
       "      <th>click_rate</th>\n",
       "    </tr>\n",
       "  </thead>\n",
       "  <tbody>\n",
       "    <tr>\n",
       "      <th>0</th>\n",
       "      <td>1</td>\n",
       "      <td>3</td>\n",
       "      <td>76</td>\n",
       "      <td>10439</td>\n",
       "      <td>39</td>\n",
       "      <td>5</td>\n",
       "      <td>1</td>\n",
       "      <td>Noon</td>\n",
       "      <td>6</td>\n",
       "      <td>26</td>\n",
       "      <td>...</td>\n",
       "      <td>0</td>\n",
       "      <td>0</td>\n",
       "      <td>0</td>\n",
       "      <td>0</td>\n",
       "      <td>0</td>\n",
       "      <td>0</td>\n",
       "      <td>0</td>\n",
       "      <td>0</td>\n",
       "      <td>14</td>\n",
       "      <td>0.103079</td>\n",
       "    </tr>\n",
       "    <tr>\n",
       "      <th>1</th>\n",
       "      <td>2</td>\n",
       "      <td>3</td>\n",
       "      <td>54</td>\n",
       "      <td>2570</td>\n",
       "      <td>256</td>\n",
       "      <td>5</td>\n",
       "      <td>1</td>\n",
       "      <td>Morning</td>\n",
       "      <td>2</td>\n",
       "      <td>11</td>\n",
       "      <td>...</td>\n",
       "      <td>0</td>\n",
       "      <td>0</td>\n",
       "      <td>0</td>\n",
       "      <td>0</td>\n",
       "      <td>0</td>\n",
       "      <td>0</td>\n",
       "      <td>0</td>\n",
       "      <td>0</td>\n",
       "      <td>10</td>\n",
       "      <td>0.700000</td>\n",
       "    </tr>\n",
       "    <tr>\n",
       "      <th>2</th>\n",
       "      <td>3</td>\n",
       "      <td>3</td>\n",
       "      <td>59</td>\n",
       "      <td>12801</td>\n",
       "      <td>16</td>\n",
       "      <td>5</td>\n",
       "      <td>1</td>\n",
       "      <td>Noon</td>\n",
       "      <td>2</td>\n",
       "      <td>11</td>\n",
       "      <td>...</td>\n",
       "      <td>1</td>\n",
       "      <td>0</td>\n",
       "      <td>1</td>\n",
       "      <td>0</td>\n",
       "      <td>0</td>\n",
       "      <td>0</td>\n",
       "      <td>0</td>\n",
       "      <td>0</td>\n",
       "      <td>16</td>\n",
       "      <td>0.002769</td>\n",
       "    </tr>\n",
       "    <tr>\n",
       "      <th>3</th>\n",
       "      <td>4</td>\n",
       "      <td>3</td>\n",
       "      <td>74</td>\n",
       "      <td>11037</td>\n",
       "      <td>30</td>\n",
       "      <td>4</td>\n",
       "      <td>0</td>\n",
       "      <td>Evening</td>\n",
       "      <td>15</td>\n",
       "      <td>9</td>\n",
       "      <td>...</td>\n",
       "      <td>0</td>\n",
       "      <td>0</td>\n",
       "      <td>0</td>\n",
       "      <td>0</td>\n",
       "      <td>0</td>\n",
       "      <td>0</td>\n",
       "      <td>0</td>\n",
       "      <td>0</td>\n",
       "      <td>10</td>\n",
       "      <td>0.010868</td>\n",
       "    </tr>\n",
       "    <tr>\n",
       "      <th>4</th>\n",
       "      <td>5</td>\n",
       "      <td>3</td>\n",
       "      <td>80</td>\n",
       "      <td>10011</td>\n",
       "      <td>27</td>\n",
       "      <td>5</td>\n",
       "      <td>1</td>\n",
       "      <td>Noon</td>\n",
       "      <td>6</td>\n",
       "      <td>26</td>\n",
       "      <td>...</td>\n",
       "      <td>0</td>\n",
       "      <td>0</td>\n",
       "      <td>1</td>\n",
       "      <td>0</td>\n",
       "      <td>0</td>\n",
       "      <td>0</td>\n",
       "      <td>0</td>\n",
       "      <td>0</td>\n",
       "      <td>14</td>\n",
       "      <td>0.142826</td>\n",
       "    </tr>\n",
       "  </tbody>\n",
       "</table>\n",
       "<p>5 rows × 22 columns</p>\n",
       "</div>"
      ],
      "text/plain": [
       "   campaign_id  sender  subject_len  body_len  mean_paragraph_len  \\\n",
       "0            1       3           76     10439                  39   \n",
       "1            2       3           54      2570                 256   \n",
       "2            3       3           59     12801                  16   \n",
       "3            4       3           74     11037                  30   \n",
       "4            5       3           80     10011                  27   \n",
       "\n",
       "   day_of_week  is_weekend times_of_day  category  product  ...  is_image  \\\n",
       "0            5           1         Noon         6       26  ...         0   \n",
       "1            5           1      Morning         2       11  ...         0   \n",
       "2            5           1         Noon         2       11  ...         1   \n",
       "3            4           0      Evening        15        9  ...         0   \n",
       "4            5           1         Noon         6       26  ...         0   \n",
       "\n",
       "   is_personalised  is_quote  is_timer  is_emoticons  is_discount  is_price  \\\n",
       "0                0         0         0             0            0         0   \n",
       "1                0         0         0             0            0         0   \n",
       "2                0         1         0             0            0         0   \n",
       "3                0         0         0             0            0         0   \n",
       "4                0         1         0             0            0         0   \n",
       "\n",
       "   is_urgency  target_audience  click_rate  \n",
       "0           0               14    0.103079  \n",
       "1           0               10    0.700000  \n",
       "2           0               16    0.002769  \n",
       "3           0               10    0.010868  \n",
       "4           0               14    0.142826  \n",
       "\n",
       "[5 rows x 22 columns]"
      ]
     },
     "execution_count": 4,
     "metadata": {},
     "output_type": "execute_result"
    }
   ],
   "source": [
    "# Analyze Data carefully\n",
    "t_data.head(5)"
   ]
  },
  {
   "cell_type": "code",
   "execution_count": 5,
   "id": "4d88d72b",
   "metadata": {},
   "outputs": [
    {
     "data": {
      "text/html": [
       "<div>\n",
       "<style scoped>\n",
       "    .dataframe tbody tr th:only-of-type {\n",
       "        vertical-align: middle;\n",
       "    }\n",
       "\n",
       "    .dataframe tbody tr th {\n",
       "        vertical-align: top;\n",
       "    }\n",
       "\n",
       "    .dataframe thead th {\n",
       "        text-align: right;\n",
       "    }\n",
       "</style>\n",
       "<table border=\"1\" class=\"dataframe\">\n",
       "  <thead>\n",
       "    <tr style=\"text-align: right;\">\n",
       "      <th></th>\n",
       "      <th>campaign_id</th>\n",
       "      <th>sender</th>\n",
       "      <th>subject_len</th>\n",
       "      <th>body_len</th>\n",
       "      <th>mean_paragraph_len</th>\n",
       "      <th>day_of_week</th>\n",
       "      <th>is_weekend</th>\n",
       "      <th>times_of_day</th>\n",
       "      <th>category</th>\n",
       "      <th>product</th>\n",
       "      <th>...</th>\n",
       "      <th>mean_CTA_len</th>\n",
       "      <th>is_image</th>\n",
       "      <th>is_personalised</th>\n",
       "      <th>is_quote</th>\n",
       "      <th>is_timer</th>\n",
       "      <th>is_emoticons</th>\n",
       "      <th>is_discount</th>\n",
       "      <th>is_price</th>\n",
       "      <th>is_urgency</th>\n",
       "      <th>target_audience</th>\n",
       "    </tr>\n",
       "  </thead>\n",
       "  <tbody>\n",
       "    <tr>\n",
       "      <th>0</th>\n",
       "      <td>1889</td>\n",
       "      <td>3</td>\n",
       "      <td>61</td>\n",
       "      <td>12871</td>\n",
       "      <td>11</td>\n",
       "      <td>6</td>\n",
       "      <td>1</td>\n",
       "      <td>Noon</td>\n",
       "      <td>6</td>\n",
       "      <td>26</td>\n",
       "      <td>...</td>\n",
       "      <td>37</td>\n",
       "      <td>1</td>\n",
       "      <td>0</td>\n",
       "      <td>0</td>\n",
       "      <td>0</td>\n",
       "      <td>1</td>\n",
       "      <td>0</td>\n",
       "      <td>0</td>\n",
       "      <td>0</td>\n",
       "      <td>14</td>\n",
       "    </tr>\n",
       "    <tr>\n",
       "      <th>1</th>\n",
       "      <td>1890</td>\n",
       "      <td>3</td>\n",
       "      <td>54</td>\n",
       "      <td>2569</td>\n",
       "      <td>256</td>\n",
       "      <td>5</td>\n",
       "      <td>1</td>\n",
       "      <td>Morning</td>\n",
       "      <td>2</td>\n",
       "      <td>11</td>\n",
       "      <td>...</td>\n",
       "      <td>22</td>\n",
       "      <td>0</td>\n",
       "      <td>0</td>\n",
       "      <td>0</td>\n",
       "      <td>0</td>\n",
       "      <td>0</td>\n",
       "      <td>0</td>\n",
       "      <td>0</td>\n",
       "      <td>0</td>\n",
       "      <td>10</td>\n",
       "    </tr>\n",
       "    <tr>\n",
       "      <th>2</th>\n",
       "      <td>1891</td>\n",
       "      <td>3</td>\n",
       "      <td>88</td>\n",
       "      <td>1473</td>\n",
       "      <td>78</td>\n",
       "      <td>4</td>\n",
       "      <td>0</td>\n",
       "      <td>Evening</td>\n",
       "      <td>2</td>\n",
       "      <td>11</td>\n",
       "      <td>...</td>\n",
       "      <td>22</td>\n",
       "      <td>1</td>\n",
       "      <td>0</td>\n",
       "      <td>1</td>\n",
       "      <td>0</td>\n",
       "      <td>0</td>\n",
       "      <td>0</td>\n",
       "      <td>0</td>\n",
       "      <td>0</td>\n",
       "      <td>10</td>\n",
       "    </tr>\n",
       "    <tr>\n",
       "      <th>3</th>\n",
       "      <td>1892</td>\n",
       "      <td>3</td>\n",
       "      <td>88</td>\n",
       "      <td>1473</td>\n",
       "      <td>78</td>\n",
       "      <td>3</td>\n",
       "      <td>0</td>\n",
       "      <td>Evening</td>\n",
       "      <td>2</td>\n",
       "      <td>11</td>\n",
       "      <td>...</td>\n",
       "      <td>22</td>\n",
       "      <td>1</td>\n",
       "      <td>0</td>\n",
       "      <td>1</td>\n",
       "      <td>0</td>\n",
       "      <td>0</td>\n",
       "      <td>0</td>\n",
       "      <td>0</td>\n",
       "      <td>0</td>\n",
       "      <td>10</td>\n",
       "    </tr>\n",
       "    <tr>\n",
       "      <th>4</th>\n",
       "      <td>1893</td>\n",
       "      <td>3</td>\n",
       "      <td>78</td>\n",
       "      <td>9020</td>\n",
       "      <td>29</td>\n",
       "      <td>3</td>\n",
       "      <td>0</td>\n",
       "      <td>Noon</td>\n",
       "      <td>6</td>\n",
       "      <td>26</td>\n",
       "      <td>...</td>\n",
       "      <td>40</td>\n",
       "      <td>0</td>\n",
       "      <td>0</td>\n",
       "      <td>0</td>\n",
       "      <td>0</td>\n",
       "      <td>0</td>\n",
       "      <td>0</td>\n",
       "      <td>0</td>\n",
       "      <td>0</td>\n",
       "      <td>14</td>\n",
       "    </tr>\n",
       "  </tbody>\n",
       "</table>\n",
       "<p>5 rows × 21 columns</p>\n",
       "</div>"
      ],
      "text/plain": [
       "   campaign_id  sender  subject_len  body_len  mean_paragraph_len  \\\n",
       "0         1889       3           61     12871                  11   \n",
       "1         1890       3           54      2569                 256   \n",
       "2         1891       3           88      1473                  78   \n",
       "3         1892       3           88      1473                  78   \n",
       "4         1893       3           78      9020                  29   \n",
       "\n",
       "   day_of_week  is_weekend times_of_day  category  product  ...  mean_CTA_len  \\\n",
       "0            6           1         Noon         6       26  ...            37   \n",
       "1            5           1      Morning         2       11  ...            22   \n",
       "2            4           0      Evening         2       11  ...            22   \n",
       "3            3           0      Evening         2       11  ...            22   \n",
       "4            3           0         Noon         6       26  ...            40   \n",
       "\n",
       "   is_image  is_personalised  is_quote  is_timer  is_emoticons  is_discount  \\\n",
       "0         1                0         0         0             1            0   \n",
       "1         0                0         0         0             0            0   \n",
       "2         1                0         1         0             0            0   \n",
       "3         1                0         1         0             0            0   \n",
       "4         0                0         0         0             0            0   \n",
       "\n",
       "   is_price  is_urgency  target_audience  \n",
       "0         0           0               14  \n",
       "1         0           0               10  \n",
       "2         0           0               10  \n",
       "3         0           0               10  \n",
       "4         0           0               14  \n",
       "\n",
       "[5 rows x 21 columns]"
      ]
     },
     "execution_count": 5,
     "metadata": {},
     "output_type": "execute_result"
    }
   ],
   "source": [
    "test_data.head(5)"
   ]
  },
  {
   "cell_type": "code",
   "execution_count": 6,
   "id": "9b64fb56",
   "metadata": {},
   "outputs": [
    {
     "data": {
      "text/plain": [
       "(1888, 22)"
      ]
     },
     "execution_count": 6,
     "metadata": {},
     "output_type": "execute_result"
    }
   ],
   "source": [
    "t_data.shape"
   ]
  },
  {
   "cell_type": "code",
   "execution_count": 7,
   "id": "dd42ba0a",
   "metadata": {},
   "outputs": [
    {
     "data": {
      "text/plain": [
       "(762, 21)"
      ]
     },
     "execution_count": 7,
     "metadata": {},
     "output_type": "execute_result"
    }
   ],
   "source": [
    "test_data.shape"
   ]
  },
  {
   "cell_type": "code",
   "execution_count": 8,
   "id": "f6eea64f",
   "metadata": {},
   "outputs": [],
   "source": [
    "train_data=pd.concat([t_data,test_data])"
   ]
  },
  {
   "cell_type": "code",
   "execution_count": 9,
   "id": "35e1a45e",
   "metadata": {},
   "outputs": [
    {
     "data": {
      "text/plain": [
       "(2650, 22)"
      ]
     },
     "execution_count": 9,
     "metadata": {},
     "output_type": "execute_result"
    }
   ],
   "source": [
    "train_data.shape"
   ]
  },
  {
   "cell_type": "code",
   "execution_count": 10,
   "id": "6c0589cc",
   "metadata": {},
   "outputs": [
    {
     "data": {
      "text/html": [
       "<div>\n",
       "<style scoped>\n",
       "    .dataframe tbody tr th:only-of-type {\n",
       "        vertical-align: middle;\n",
       "    }\n",
       "\n",
       "    .dataframe tbody tr th {\n",
       "        vertical-align: top;\n",
       "    }\n",
       "\n",
       "    .dataframe thead th {\n",
       "        text-align: right;\n",
       "    }\n",
       "</style>\n",
       "<table border=\"1\" class=\"dataframe\">\n",
       "  <thead>\n",
       "    <tr style=\"text-align: right;\">\n",
       "      <th></th>\n",
       "      <th>campaign_id</th>\n",
       "      <th>sender</th>\n",
       "      <th>subject_len</th>\n",
       "      <th>body_len</th>\n",
       "      <th>mean_paragraph_len</th>\n",
       "      <th>day_of_week</th>\n",
       "      <th>is_weekend</th>\n",
       "      <th>times_of_day</th>\n",
       "      <th>category</th>\n",
       "      <th>product</th>\n",
       "      <th>...</th>\n",
       "      <th>is_image</th>\n",
       "      <th>is_personalised</th>\n",
       "      <th>is_quote</th>\n",
       "      <th>is_timer</th>\n",
       "      <th>is_emoticons</th>\n",
       "      <th>is_discount</th>\n",
       "      <th>is_price</th>\n",
       "      <th>is_urgency</th>\n",
       "      <th>target_audience</th>\n",
       "      <th>click_rate</th>\n",
       "    </tr>\n",
       "  </thead>\n",
       "  <tbody>\n",
       "    <tr>\n",
       "      <th>0</th>\n",
       "      <td>1</td>\n",
       "      <td>3</td>\n",
       "      <td>76</td>\n",
       "      <td>10439</td>\n",
       "      <td>39</td>\n",
       "      <td>5</td>\n",
       "      <td>1</td>\n",
       "      <td>Noon</td>\n",
       "      <td>6</td>\n",
       "      <td>26</td>\n",
       "      <td>...</td>\n",
       "      <td>0</td>\n",
       "      <td>0</td>\n",
       "      <td>0</td>\n",
       "      <td>0</td>\n",
       "      <td>0</td>\n",
       "      <td>0</td>\n",
       "      <td>0</td>\n",
       "      <td>0</td>\n",
       "      <td>14</td>\n",
       "      <td>0.103079</td>\n",
       "    </tr>\n",
       "    <tr>\n",
       "      <th>1</th>\n",
       "      <td>2</td>\n",
       "      <td>3</td>\n",
       "      <td>54</td>\n",
       "      <td>2570</td>\n",
       "      <td>256</td>\n",
       "      <td>5</td>\n",
       "      <td>1</td>\n",
       "      <td>Morning</td>\n",
       "      <td>2</td>\n",
       "      <td>11</td>\n",
       "      <td>...</td>\n",
       "      <td>0</td>\n",
       "      <td>0</td>\n",
       "      <td>0</td>\n",
       "      <td>0</td>\n",
       "      <td>0</td>\n",
       "      <td>0</td>\n",
       "      <td>0</td>\n",
       "      <td>0</td>\n",
       "      <td>10</td>\n",
       "      <td>0.700000</td>\n",
       "    </tr>\n",
       "    <tr>\n",
       "      <th>2</th>\n",
       "      <td>3</td>\n",
       "      <td>3</td>\n",
       "      <td>59</td>\n",
       "      <td>12801</td>\n",
       "      <td>16</td>\n",
       "      <td>5</td>\n",
       "      <td>1</td>\n",
       "      <td>Noon</td>\n",
       "      <td>2</td>\n",
       "      <td>11</td>\n",
       "      <td>...</td>\n",
       "      <td>1</td>\n",
       "      <td>0</td>\n",
       "      <td>1</td>\n",
       "      <td>0</td>\n",
       "      <td>0</td>\n",
       "      <td>0</td>\n",
       "      <td>0</td>\n",
       "      <td>0</td>\n",
       "      <td>16</td>\n",
       "      <td>0.002769</td>\n",
       "    </tr>\n",
       "    <tr>\n",
       "      <th>3</th>\n",
       "      <td>4</td>\n",
       "      <td>3</td>\n",
       "      <td>74</td>\n",
       "      <td>11037</td>\n",
       "      <td>30</td>\n",
       "      <td>4</td>\n",
       "      <td>0</td>\n",
       "      <td>Evening</td>\n",
       "      <td>15</td>\n",
       "      <td>9</td>\n",
       "      <td>...</td>\n",
       "      <td>0</td>\n",
       "      <td>0</td>\n",
       "      <td>0</td>\n",
       "      <td>0</td>\n",
       "      <td>0</td>\n",
       "      <td>0</td>\n",
       "      <td>0</td>\n",
       "      <td>0</td>\n",
       "      <td>10</td>\n",
       "      <td>0.010868</td>\n",
       "    </tr>\n",
       "    <tr>\n",
       "      <th>4</th>\n",
       "      <td>5</td>\n",
       "      <td>3</td>\n",
       "      <td>80</td>\n",
       "      <td>10011</td>\n",
       "      <td>27</td>\n",
       "      <td>5</td>\n",
       "      <td>1</td>\n",
       "      <td>Noon</td>\n",
       "      <td>6</td>\n",
       "      <td>26</td>\n",
       "      <td>...</td>\n",
       "      <td>0</td>\n",
       "      <td>0</td>\n",
       "      <td>1</td>\n",
       "      <td>0</td>\n",
       "      <td>0</td>\n",
       "      <td>0</td>\n",
       "      <td>0</td>\n",
       "      <td>0</td>\n",
       "      <td>14</td>\n",
       "      <td>0.142826</td>\n",
       "    </tr>\n",
       "  </tbody>\n",
       "</table>\n",
       "<p>5 rows × 22 columns</p>\n",
       "</div>"
      ],
      "text/plain": [
       "   campaign_id  sender  subject_len  body_len  mean_paragraph_len  \\\n",
       "0            1       3           76     10439                  39   \n",
       "1            2       3           54      2570                 256   \n",
       "2            3       3           59     12801                  16   \n",
       "3            4       3           74     11037                  30   \n",
       "4            5       3           80     10011                  27   \n",
       "\n",
       "   day_of_week  is_weekend times_of_day  category  product  ...  is_image  \\\n",
       "0            5           1         Noon         6       26  ...         0   \n",
       "1            5           1      Morning         2       11  ...         0   \n",
       "2            5           1         Noon         2       11  ...         1   \n",
       "3            4           0      Evening        15        9  ...         0   \n",
       "4            5           1         Noon         6       26  ...         0   \n",
       "\n",
       "   is_personalised  is_quote  is_timer  is_emoticons  is_discount  is_price  \\\n",
       "0                0         0         0             0            0         0   \n",
       "1                0         0         0             0            0         0   \n",
       "2                0         1         0             0            0         0   \n",
       "3                0         0         0             0            0         0   \n",
       "4                0         1         0             0            0         0   \n",
       "\n",
       "   is_urgency  target_audience  click_rate  \n",
       "0           0               14    0.103079  \n",
       "1           0               10    0.700000  \n",
       "2           0               16    0.002769  \n",
       "3           0               10    0.010868  \n",
       "4           0               14    0.142826  \n",
       "\n",
       "[5 rows x 22 columns]"
      ]
     },
     "execution_count": 10,
     "metadata": {},
     "output_type": "execute_result"
    }
   ],
   "source": [
    "train_data.head()"
   ]
  },
  {
   "cell_type": "markdown",
   "id": "552a4e22",
   "metadata": {},
   "source": [
    "# from above its observed that train & test data splited so prediction of \"train_dataset\" can give idea how better is its predicting y_pred\"\n"
   ]
  },
  {
   "cell_type": "code",
   "execution_count": 11,
   "id": "ebd231c1",
   "metadata": {},
   "outputs": [
    {
     "name": "stdout",
     "output_type": "stream",
     "text": [
      "<class 'pandas.core.frame.DataFrame'>\n",
      "Int64Index: 2650 entries, 0 to 761\n",
      "Data columns (total 22 columns):\n",
      " #   Column              Non-Null Count  Dtype  \n",
      "---  ------              --------------  -----  \n",
      " 0   campaign_id         2650 non-null   int64  \n",
      " 1   sender              2650 non-null   int64  \n",
      " 2   subject_len         2650 non-null   int64  \n",
      " 3   body_len            2650 non-null   int64  \n",
      " 4   mean_paragraph_len  2650 non-null   int64  \n",
      " 5   day_of_week         2650 non-null   int64  \n",
      " 6   is_weekend          2650 non-null   int64  \n",
      " 7   times_of_day        2650 non-null   object \n",
      " 8   category            2650 non-null   int64  \n",
      " 9   product             2650 non-null   int64  \n",
      " 10  no_of_CTA           2650 non-null   int64  \n",
      " 11  mean_CTA_len        2650 non-null   int64  \n",
      " 12  is_image            2650 non-null   int64  \n",
      " 13  is_personalised     2650 non-null   int64  \n",
      " 14  is_quote            2650 non-null   int64  \n",
      " 15  is_timer            2650 non-null   int64  \n",
      " 16  is_emoticons        2650 non-null   int64  \n",
      " 17  is_discount         2650 non-null   int64  \n",
      " 18  is_price            2650 non-null   int64  \n",
      " 19  is_urgency          2650 non-null   int64  \n",
      " 20  target_audience     2650 non-null   int64  \n",
      " 21  click_rate          1888 non-null   float64\n",
      "dtypes: float64(1), int64(20), object(1)\n",
      "memory usage: 476.2+ KB\n"
     ]
    }
   ],
   "source": [
    "train_data.info()"
   ]
  },
  {
   "cell_type": "code",
   "execution_count": 12,
   "id": "81c05a0c",
   "metadata": {},
   "outputs": [],
   "source": [
    "# from above obsrvation i know there is string type data "
   ]
  },
  {
   "cell_type": "code",
   "execution_count": 13,
   "id": "1f319aea",
   "metadata": {},
   "outputs": [],
   "source": [
    "# importing label_encoder \n",
    "from sklearn.preprocessing import LabelEncoder"
   ]
  },
  {
   "cell_type": "code",
   "execution_count": 14,
   "id": "78e5c284",
   "metadata": {},
   "outputs": [],
   "source": [
    "LE=LabelEncoder()"
   ]
  },
  {
   "cell_type": "code",
   "execution_count": 15,
   "id": "2b3d5aac",
   "metadata": {},
   "outputs": [],
   "source": [
    "train_data['times_of_day']=LE.fit_transform(train_data['times_of_day'])"
   ]
  },
  {
   "cell_type": "code",
   "execution_count": 16,
   "id": "d744d9fb",
   "metadata": {},
   "outputs": [
    {
     "data": {
      "text/html": [
       "<div>\n",
       "<style scoped>\n",
       "    .dataframe tbody tr th:only-of-type {\n",
       "        vertical-align: middle;\n",
       "    }\n",
       "\n",
       "    .dataframe tbody tr th {\n",
       "        vertical-align: top;\n",
       "    }\n",
       "\n",
       "    .dataframe thead th {\n",
       "        text-align: right;\n",
       "    }\n",
       "</style>\n",
       "<table border=\"1\" class=\"dataframe\">\n",
       "  <thead>\n",
       "    <tr style=\"text-align: right;\">\n",
       "      <th></th>\n",
       "      <th>campaign_id</th>\n",
       "      <th>sender</th>\n",
       "      <th>subject_len</th>\n",
       "      <th>body_len</th>\n",
       "      <th>mean_paragraph_len</th>\n",
       "      <th>day_of_week</th>\n",
       "      <th>is_weekend</th>\n",
       "      <th>times_of_day</th>\n",
       "      <th>category</th>\n",
       "      <th>product</th>\n",
       "      <th>...</th>\n",
       "      <th>is_image</th>\n",
       "      <th>is_personalised</th>\n",
       "      <th>is_quote</th>\n",
       "      <th>is_timer</th>\n",
       "      <th>is_emoticons</th>\n",
       "      <th>is_discount</th>\n",
       "      <th>is_price</th>\n",
       "      <th>is_urgency</th>\n",
       "      <th>target_audience</th>\n",
       "      <th>click_rate</th>\n",
       "    </tr>\n",
       "  </thead>\n",
       "  <tbody>\n",
       "    <tr>\n",
       "      <th>count</th>\n",
       "      <td>2650.000000</td>\n",
       "      <td>2650.000000</td>\n",
       "      <td>2650.000000</td>\n",
       "      <td>2650.000000</td>\n",
       "      <td>2650.000000</td>\n",
       "      <td>2650.000000</td>\n",
       "      <td>2650.000000</td>\n",
       "      <td>2650.000000</td>\n",
       "      <td>2650.000000</td>\n",
       "      <td>2650.000000</td>\n",
       "      <td>...</td>\n",
       "      <td>2650.000000</td>\n",
       "      <td>2650.000000</td>\n",
       "      <td>2650.000000</td>\n",
       "      <td>2650.0</td>\n",
       "      <td>2650.000000</td>\n",
       "      <td>2650.000000</td>\n",
       "      <td>2650.000000</td>\n",
       "      <td>2650.000000</td>\n",
       "      <td>2650.000000</td>\n",
       "      <td>1888.000000</td>\n",
       "    </tr>\n",
       "    <tr>\n",
       "      <th>mean</th>\n",
       "      <td>1325.500000</td>\n",
       "      <td>4.353585</td>\n",
       "      <td>86.321887</td>\n",
       "      <td>14185.344151</td>\n",
       "      <td>34.648679</td>\n",
       "      <td>2.834717</td>\n",
       "      <td>0.202642</td>\n",
       "      <td>0.536981</td>\n",
       "      <td>9.846415</td>\n",
       "      <td>17.625283</td>\n",
       "      <td>...</td>\n",
       "      <td>0.919245</td>\n",
       "      <td>0.052830</td>\n",
       "      <td>0.843019</td>\n",
       "      <td>0.0</td>\n",
       "      <td>0.232453</td>\n",
       "      <td>0.037358</td>\n",
       "      <td>34.675472</td>\n",
       "      <td>0.112830</td>\n",
       "      <td>11.638491</td>\n",
       "      <td>0.041888</td>\n",
       "    </tr>\n",
       "    <tr>\n",
       "      <th>std</th>\n",
       "      <td>765.133431</td>\n",
       "      <td>3.236710</td>\n",
       "      <td>30.265757</td>\n",
       "      <td>7283.856366</td>\n",
       "      <td>27.796352</td>\n",
       "      <td>1.771125</td>\n",
       "      <td>0.402043</td>\n",
       "      <td>0.847548</td>\n",
       "      <td>5.306196</td>\n",
       "      <td>12.203647</td>\n",
       "      <td>...</td>\n",
       "      <td>0.869499</td>\n",
       "      <td>0.223737</td>\n",
       "      <td>1.032265</td>\n",
       "      <td>0.0</td>\n",
       "      <td>0.735963</td>\n",
       "      <td>0.189674</td>\n",
       "      <td>497.222896</td>\n",
       "      <td>0.316445</td>\n",
       "      <td>2.973373</td>\n",
       "      <td>0.084223</td>\n",
       "    </tr>\n",
       "    <tr>\n",
       "      <th>min</th>\n",
       "      <td>1.000000</td>\n",
       "      <td>0.000000</td>\n",
       "      <td>9.000000</td>\n",
       "      <td>23.000000</td>\n",
       "      <td>4.000000</td>\n",
       "      <td>0.000000</td>\n",
       "      <td>0.000000</td>\n",
       "      <td>0.000000</td>\n",
       "      <td>0.000000</td>\n",
       "      <td>0.000000</td>\n",
       "      <td>...</td>\n",
       "      <td>0.000000</td>\n",
       "      <td>0.000000</td>\n",
       "      <td>0.000000</td>\n",
       "      <td>0.0</td>\n",
       "      <td>0.000000</td>\n",
       "      <td>0.000000</td>\n",
       "      <td>0.000000</td>\n",
       "      <td>0.000000</td>\n",
       "      <td>0.000000</td>\n",
       "      <td>0.000000</td>\n",
       "    </tr>\n",
       "    <tr>\n",
       "      <th>25%</th>\n",
       "      <td>663.250000</td>\n",
       "      <td>3.000000</td>\n",
       "      <td>68.000000</td>\n",
       "      <td>9596.000000</td>\n",
       "      <td>21.000000</td>\n",
       "      <td>1.000000</td>\n",
       "      <td>0.000000</td>\n",
       "      <td>0.000000</td>\n",
       "      <td>6.000000</td>\n",
       "      <td>9.000000</td>\n",
       "      <td>...</td>\n",
       "      <td>0.000000</td>\n",
       "      <td>0.000000</td>\n",
       "      <td>0.000000</td>\n",
       "      <td>0.0</td>\n",
       "      <td>0.000000</td>\n",
       "      <td>0.000000</td>\n",
       "      <td>0.000000</td>\n",
       "      <td>0.000000</td>\n",
       "      <td>12.000000</td>\n",
       "      <td>0.005413</td>\n",
       "    </tr>\n",
       "    <tr>\n",
       "      <th>50%</th>\n",
       "      <td>1325.500000</td>\n",
       "      <td>3.000000</td>\n",
       "      <td>83.000000</td>\n",
       "      <td>12699.000000</td>\n",
       "      <td>28.000000</td>\n",
       "      <td>3.000000</td>\n",
       "      <td>0.000000</td>\n",
       "      <td>0.000000</td>\n",
       "      <td>10.000000</td>\n",
       "      <td>12.000000</td>\n",
       "      <td>...</td>\n",
       "      <td>1.000000</td>\n",
       "      <td>0.000000</td>\n",
       "      <td>1.000000</td>\n",
       "      <td>0.0</td>\n",
       "      <td>0.000000</td>\n",
       "      <td>0.000000</td>\n",
       "      <td>0.000000</td>\n",
       "      <td>0.000000</td>\n",
       "      <td>12.000000</td>\n",
       "      <td>0.010686</td>\n",
       "    </tr>\n",
       "    <tr>\n",
       "      <th>75%</th>\n",
       "      <td>1987.750000</td>\n",
       "      <td>3.000000</td>\n",
       "      <td>98.000000</td>\n",
       "      <td>17279.000000</td>\n",
       "      <td>40.000000</td>\n",
       "      <td>4.000000</td>\n",
       "      <td>0.000000</td>\n",
       "      <td>1.000000</td>\n",
       "      <td>15.000000</td>\n",
       "      <td>26.000000</td>\n",
       "      <td>...</td>\n",
       "      <td>2.000000</td>\n",
       "      <td>0.000000</td>\n",
       "      <td>1.000000</td>\n",
       "      <td>0.0</td>\n",
       "      <td>0.000000</td>\n",
       "      <td>0.000000</td>\n",
       "      <td>0.000000</td>\n",
       "      <td>0.000000</td>\n",
       "      <td>12.000000</td>\n",
       "      <td>0.035589</td>\n",
       "    </tr>\n",
       "    <tr>\n",
       "      <th>max</th>\n",
       "      <td>2650.000000</td>\n",
       "      <td>15.000000</td>\n",
       "      <td>265.000000</td>\n",
       "      <td>44491.000000</td>\n",
       "      <td>498.000000</td>\n",
       "      <td>6.000000</td>\n",
       "      <td>1.000000</td>\n",
       "      <td>2.000000</td>\n",
       "      <td>15.000000</td>\n",
       "      <td>44.000000</td>\n",
       "      <td>...</td>\n",
       "      <td>6.000000</td>\n",
       "      <td>1.000000</td>\n",
       "      <td>6.000000</td>\n",
       "      <td>0.0</td>\n",
       "      <td>17.000000</td>\n",
       "      <td>1.000000</td>\n",
       "      <td>14999.000000</td>\n",
       "      <td>1.000000</td>\n",
       "      <td>16.000000</td>\n",
       "      <td>0.897959</td>\n",
       "    </tr>\n",
       "  </tbody>\n",
       "</table>\n",
       "<p>8 rows × 22 columns</p>\n",
       "</div>"
      ],
      "text/plain": [
       "       campaign_id       sender  subject_len      body_len  \\\n",
       "count  2650.000000  2650.000000  2650.000000   2650.000000   \n",
       "mean   1325.500000     4.353585    86.321887  14185.344151   \n",
       "std     765.133431     3.236710    30.265757   7283.856366   \n",
       "min       1.000000     0.000000     9.000000     23.000000   \n",
       "25%     663.250000     3.000000    68.000000   9596.000000   \n",
       "50%    1325.500000     3.000000    83.000000  12699.000000   \n",
       "75%    1987.750000     3.000000    98.000000  17279.000000   \n",
       "max    2650.000000    15.000000   265.000000  44491.000000   \n",
       "\n",
       "       mean_paragraph_len  day_of_week   is_weekend  times_of_day  \\\n",
       "count         2650.000000  2650.000000  2650.000000   2650.000000   \n",
       "mean            34.648679     2.834717     0.202642      0.536981   \n",
       "std             27.796352     1.771125     0.402043      0.847548   \n",
       "min              4.000000     0.000000     0.000000      0.000000   \n",
       "25%             21.000000     1.000000     0.000000      0.000000   \n",
       "50%             28.000000     3.000000     0.000000      0.000000   \n",
       "75%             40.000000     4.000000     0.000000      1.000000   \n",
       "max            498.000000     6.000000     1.000000      2.000000   \n",
       "\n",
       "          category      product  ...     is_image  is_personalised  \\\n",
       "count  2650.000000  2650.000000  ...  2650.000000      2650.000000   \n",
       "mean      9.846415    17.625283  ...     0.919245         0.052830   \n",
       "std       5.306196    12.203647  ...     0.869499         0.223737   \n",
       "min       0.000000     0.000000  ...     0.000000         0.000000   \n",
       "25%       6.000000     9.000000  ...     0.000000         0.000000   \n",
       "50%      10.000000    12.000000  ...     1.000000         0.000000   \n",
       "75%      15.000000    26.000000  ...     2.000000         0.000000   \n",
       "max      15.000000    44.000000  ...     6.000000         1.000000   \n",
       "\n",
       "          is_quote  is_timer  is_emoticons  is_discount      is_price  \\\n",
       "count  2650.000000    2650.0   2650.000000  2650.000000   2650.000000   \n",
       "mean      0.843019       0.0      0.232453     0.037358     34.675472   \n",
       "std       1.032265       0.0      0.735963     0.189674    497.222896   \n",
       "min       0.000000       0.0      0.000000     0.000000      0.000000   \n",
       "25%       0.000000       0.0      0.000000     0.000000      0.000000   \n",
       "50%       1.000000       0.0      0.000000     0.000000      0.000000   \n",
       "75%       1.000000       0.0      0.000000     0.000000      0.000000   \n",
       "max       6.000000       0.0     17.000000     1.000000  14999.000000   \n",
       "\n",
       "        is_urgency  target_audience   click_rate  \n",
       "count  2650.000000      2650.000000  1888.000000  \n",
       "mean      0.112830        11.638491     0.041888  \n",
       "std       0.316445         2.973373     0.084223  \n",
       "min       0.000000         0.000000     0.000000  \n",
       "25%       0.000000        12.000000     0.005413  \n",
       "50%       0.000000        12.000000     0.010686  \n",
       "75%       0.000000        12.000000     0.035589  \n",
       "max       1.000000        16.000000     0.897959  \n",
       "\n",
       "[8 rows x 22 columns]"
      ]
     },
     "execution_count": 16,
     "metadata": {},
     "output_type": "execute_result"
    }
   ],
   "source": [
    "train_data.describe()"
   ]
  },
  {
   "cell_type": "code",
   "execution_count": 17,
   "id": "55fbc0e1",
   "metadata": {},
   "outputs": [],
   "source": [
    "t_data=t_data.replace(t_data['sender']>3,np.nan)"
   ]
  },
  {
   "cell_type": "code",
   "execution_count": 18,
   "id": "937af8c5",
   "metadata": {},
   "outputs": [],
   "source": [
    "t_data=t_data.replace(t_data['mean_paragraph_len']>50,np.nan)"
   ]
  },
  {
   "cell_type": "code",
   "execution_count": 19,
   "id": "6e5ab5e8",
   "metadata": {},
   "outputs": [],
   "source": [
    "t_data=t_data.replace(t_data['is_price']>2,np.nan)"
   ]
  },
  {
   "cell_type": "code",
   "execution_count": 20,
   "id": "85d5cba4",
   "metadata": {},
   "outputs": [],
   "source": [
    "t_data=t_data.replace(t_data['is_price']>100,np.nan)"
   ]
  },
  {
   "cell_type": "code",
   "execution_count": null,
   "id": "a34f800d",
   "metadata": {},
   "outputs": [],
   "source": []
  },
  {
   "cell_type": "code",
   "execution_count": 21,
   "id": "ff6023c6",
   "metadata": {},
   "outputs": [
    {
     "data": {
      "text/plain": [
       "array([[<AxesSubplot:title={'center':'campaign_id'}>,\n",
       "        <AxesSubplot:title={'center':'sender'}>,\n",
       "        <AxesSubplot:title={'center':'subject_len'}>,\n",
       "        <AxesSubplot:title={'center':'body_len'}>,\n",
       "        <AxesSubplot:title={'center':'mean_paragraph_len'}>],\n",
       "       [<AxesSubplot:title={'center':'day_of_week'}>,\n",
       "        <AxesSubplot:title={'center':'is_weekend'}>,\n",
       "        <AxesSubplot:title={'center':'times_of_day'}>,\n",
       "        <AxesSubplot:title={'center':'category'}>,\n",
       "        <AxesSubplot:title={'center':'product'}>],\n",
       "       [<AxesSubplot:title={'center':'no_of_CTA'}>,\n",
       "        <AxesSubplot:title={'center':'mean_CTA_len'}>,\n",
       "        <AxesSubplot:title={'center':'is_image'}>,\n",
       "        <AxesSubplot:title={'center':'is_personalised'}>,\n",
       "        <AxesSubplot:title={'center':'is_quote'}>],\n",
       "       [<AxesSubplot:title={'center':'is_timer'}>,\n",
       "        <AxesSubplot:title={'center':'is_emoticons'}>,\n",
       "        <AxesSubplot:title={'center':'is_discount'}>,\n",
       "        <AxesSubplot:title={'center':'is_price'}>,\n",
       "        <AxesSubplot:title={'center':'is_urgency'}>],\n",
       "       [<AxesSubplot:title={'center':'target_audience'}>, <AxesSubplot:>,\n",
       "        <AxesSubplot:>, <AxesSubplot:>, <AxesSubplot:>]], dtype=object)"
      ]
     },
     "execution_count": 21,
     "metadata": {},
     "output_type": "execute_result"
    },
    {
     "data": {
      "image/png": "[encoded data removed]",
      "text/plain": [
       "<Figure size 864x2160 with 25 Axes>"
      ]
     },
     "metadata": {
      "needs_background": "light"
     },
     "output_type": "display_data"
    }
   ],
   "source": [
    "c=list(train_data)[0:-1]\n",
    "train_data[c].hist(bins=100,figsize=(12,30))"
   ]
  },
  {
   "cell_type": "code",
   "execution_count": 22,
   "id": "6830e14f",
   "metadata": {},
   "outputs": [],
   "source": [
    "# outliers treatment"
   ]
  },
  {
   "cell_type": "code",
   "execution_count": 23,
   "id": "cfc438fb",
   "metadata": {},
   "outputs": [],
   "source": [
    "# c=list(train_data)[0:-1]\n",
    "# train_data[c].plot(figsize=(50,100))"
   ]
  },
  {
   "cell_type": "markdown",
   "id": "d5b6b444",
   "metadata": {},
   "source": [
    "# Before removal"
   ]
  },
  {
   "cell_type": "code",
   "execution_count": 24,
   "id": "be4b975f",
   "metadata": {},
   "outputs": [],
   "source": [
    "def plotvariable(df,variable):\n",
    "    plt.figure(figsize=(16,4))\n",
    "    \n",
    "    plt.subplot(1,2,1)\n",
    "    plt.hist(df[variable],alpha=0.5)\n",
    "    \n",
    "    plt.subplot(1,2,2)\n",
    "    sns.boxplot(df[variable])\n",
    "    plt.show()"
   ]
  },
  {
   "cell_type": "code",
   "execution_count": 25,
   "id": "7752db8f",
   "metadata": {},
   "outputs": [
    {
     "data": {
      "image/png": "[encoded data removed]",
      "text/plain": [
       "<Figure size 1152x288 with 2 Axes>"
      ]
     },
     "metadata": {
      "needs_background": "light"
     },
     "output_type": "display_data"
    }
   ],
   "source": [
    "plotvariable(train_data,'target_audience')"
   ]
  },
  {
   "cell_type": "code",
   "execution_count": 26,
   "id": "8fc860d0",
   "metadata": {},
   "outputs": [
    {
     "data": {
      "image/png": "[encoded data removed]",
      "text/plain": [
       "<Figure size 1152x288 with 2 Axes>"
      ]
     },
     "metadata": {
      "needs_background": "light"
     },
     "output_type": "display_data"
    }
   ],
   "source": [
    "plotvariable(train_data,'sender')"
   ]
  },
  {
   "cell_type": "code",
   "execution_count": 27,
   "id": "8df78914",
   "metadata": {},
   "outputs": [
    {
     "data": {
      "image/png": "[encoded data removed]",
      "text/plain": [
       "<Figure size 1152x288 with 2 Axes>"
      ]
     },
     "metadata": {
      "needs_background": "light"
     },
     "output_type": "display_data"
    }
   ],
   "source": [
    "plotvariable(train_data,'subject_len')"
   ]
  },
  {
   "cell_type": "code",
   "execution_count": 28,
   "id": "96ead654",
   "metadata": {},
   "outputs": [
    {
     "data": {
      "image/png": "[encoded data removed]",
      "text/plain": [
       "<Figure size 1152x288 with 2 Axes>"
      ]
     },
     "metadata": {
      "needs_background": "light"
     },
     "output_type": "display_data"
    }
   ],
   "source": [
    "plotvariable(train_data,'body_len')"
   ]
  },
  {
   "cell_type": "code",
   "execution_count": 29,
   "id": "89e29d42",
   "metadata": {},
   "outputs": [
    {
     "data": {
      "image/png": "[encoded data removed]",
      "text/plain": [
       "<Figure size 1152x288 with 2 Axes>"
      ]
     },
     "metadata": {
      "needs_background": "light"
     },
     "output_type": "display_data"
    }
   ],
   "source": [
    "plotvariable(train_data,'mean_paragraph_len')"
   ]
  },
  {
   "cell_type": "code",
   "execution_count": 30,
   "id": "c6511bb3",
   "metadata": {},
   "outputs": [
    {
     "data": {
      "image/png": "[encoded data removed]",
      "text/plain": [
       "<Figure size 1152x288 with 2 Axes>"
      ]
     },
     "metadata": {
      "needs_background": "light"
     },
     "output_type": "display_data"
    }
   ],
   "source": [
    "plotvariable(train_data,'day_of_week')"
   ]
  },
  {
   "cell_type": "code",
   "execution_count": 31,
   "id": "5e0dcddd",
   "metadata": {},
   "outputs": [
    {
     "data": {
      "image/png": "[encoded data removed]",
      "text/plain": [
       "<Figure size 1152x288 with 2 Axes>"
      ]
     },
     "metadata": {
      "needs_background": "light"
     },
     "output_type": "display_data"
    }
   ],
   "source": [
    "plotvariable(train_data,'is_weekend')"
   ]
  },
  {
   "cell_type": "code",
   "execution_count": 32,
   "id": "841c6402",
   "metadata": {},
   "outputs": [
    {
     "data": {
      "image/png": "[encoded data removed]",
      "text/plain": [
       "<Figure size 1152x288 with 2 Axes>"
      ]
     },
     "metadata": {
      "needs_background": "light"
     },
     "output_type": "display_data"
    }
   ],
   "source": [
    "plotvariable(train_data,'subject_len')"
   ]
  },
  {
   "cell_type": "code",
   "execution_count": 33,
   "id": "48e5708f",
   "metadata": {},
   "outputs": [
    {
     "data": {
      "image/png": "[encoded data removed]",
      "text/plain": [
       "<Figure size 1152x288 with 2 Axes>"
      ]
     },
     "metadata": {
      "needs_background": "light"
     },
     "output_type": "display_data"
    }
   ],
   "source": [
    "plotvariable(train_data,'times_of_day')"
   ]
  },
  {
   "cell_type": "code",
   "execution_count": 34,
   "id": "ef19e2bd",
   "metadata": {},
   "outputs": [
    {
     "data": {
      "image/png": "[encoded data removed]",
      "text/plain": [
       "<Figure size 1152x288 with 2 Axes>"
      ]
     },
     "metadata": {
      "needs_background": "light"
     },
     "output_type": "display_data"
    }
   ],
   "source": [
    "plotvariable(train_data,'category')"
   ]
  },
  {
   "cell_type": "code",
   "execution_count": 35,
   "id": "241fa0c0",
   "metadata": {},
   "outputs": [
    {
     "data": {
      "image/png": "[encoded data removed]",
      "text/plain": [
       "<Figure size 1152x288 with 2 Axes>"
      ]
     },
     "metadata": {
      "needs_background": "light"
     },
     "output_type": "display_data"
    }
   ],
   "source": [
    "plotvariable(train_data,'product')"
   ]
  },
  {
   "cell_type": "code",
   "execution_count": 36,
   "id": "74468b89",
   "metadata": {},
   "outputs": [
    {
     "data": {
      "image/png": "[encoded data removed]",
      "text/plain": [
       "<Figure size 1152x288 with 2 Axes>"
      ]
     },
     "metadata": {
      "needs_background": "light"
     },
     "output_type": "display_data"
    }
   ],
   "source": [
    "plotvariable(train_data,'is_urgency')"
   ]
  },
  {
   "cell_type": "code",
   "execution_count": 37,
   "id": "d5c3467d",
   "metadata": {},
   "outputs": [
    {
     "data": {
      "image/png": "[encoded data removed]",
      "text/plain": [
       "<Figure size 1152x288 with 2 Axes>"
      ]
     },
     "metadata": {
      "needs_background": "light"
     },
     "output_type": "display_data"
    }
   ],
   "source": [
    "plotvariable(train_data,'is_price')"
   ]
  },
  {
   "cell_type": "code",
   "execution_count": 38,
   "id": "3cdab529",
   "metadata": {},
   "outputs": [
    {
     "data": {
      "image/png": "[encoded data removed]",
      "text/plain": [
       "<Figure size 1152x288 with 2 Axes>"
      ]
     },
     "metadata": {
      "needs_background": "light"
     },
     "output_type": "display_data"
    }
   ],
   "source": [
    "plotvariable(train_data,'is_discount')"
   ]
  },
  {
   "cell_type": "code",
   "execution_count": 39,
   "id": "e38e0cb7",
   "metadata": {},
   "outputs": [
    {
     "data": {
      "image/png": "[encoded data removed]",
      "text/plain": [
       "<Figure size 1152x288 with 2 Axes>"
      ]
     },
     "metadata": {
      "needs_background": "light"
     },
     "output_type": "display_data"
    }
   ],
   "source": [
    "plotvariable(train_data,'is_emoticons')"
   ]
  },
  {
   "cell_type": "code",
   "execution_count": 40,
   "id": "3dc34ea8",
   "metadata": {},
   "outputs": [
    {
     "data": {
      "image/png": "[encoded data removed]",
      "text/plain": [
       "<Figure size 1152x288 with 2 Axes>"
      ]
     },
     "metadata": {
      "needs_background": "light"
     },
     "output_type": "display_data"
    }
   ],
   "source": [
    "plotvariable(train_data,'is_quote')"
   ]
  },
  {
   "cell_type": "code",
   "execution_count": 41,
   "id": "d762df56",
   "metadata": {},
   "outputs": [
    {
     "data": {
      "image/png": "[encoded data removed]",
      "text/plain": [
       "<Figure size 1152x288 with 2 Axes>"
      ]
     },
     "metadata": {
      "needs_background": "light"
     },
     "output_type": "display_data"
    }
   ],
   "source": [
    "plotvariable(train_data,'is_personalised')"
   ]
  },
  {
   "cell_type": "code",
   "execution_count": 42,
   "id": "c28e53df",
   "metadata": {},
   "outputs": [
    {
     "data": {
      "image/png": "[encoded data removed]",
      "text/plain": [
       "<Figure size 1152x288 with 2 Axes>"
      ]
     },
     "metadata": {
      "needs_background": "light"
     },
     "output_type": "display_data"
    }
   ],
   "source": [
    "plotvariable(train_data,'is_image')"
   ]
  },
  {
   "cell_type": "code",
   "execution_count": 43,
   "id": "7c10ad84",
   "metadata": {},
   "outputs": [],
   "source": [
    "def outliers(df, ft):\n",
    "    Q1=df[ft].quantile(0.25)\n",
    "    Q3=df[ft].quantile(0.75)\n",
    "    IQR=Q3-Q1\n",
    "    \n",
    "    lower_bound=Q1-1.5*IQR\n",
    "    upper_bound=Q3+1.5*IQR\n",
    "    \n",
    "    return lower_bound,upper_bound"
   ]
  },
  {
   "cell_type": "code",
   "execution_count": 44,
   "id": "09bc4131",
   "metadata": {},
   "outputs": [],
   "source": [
    "lower_bound,upper_bound=outliers(train_data,'is_image')"
   ]
  },
  {
   "cell_type": "code",
   "execution_count": 45,
   "id": "4764b259",
   "metadata": {},
   "outputs": [
    {
     "name": "stdout",
     "output_type": "stream",
     "text": [
      "upper_limit is 5.0\n",
      "lower_limit is -3.0\n"
     ]
    }
   ],
   "source": [
    "print('upper_limit is',upper_bound)\n",
    "print('lower_limit is',lower_bound)"
   ]
  },
  {
   "cell_type": "code",
   "execution_count": 46,
   "id": "5270201e",
   "metadata": {},
   "outputs": [],
   "source": [
    "train_data['is_image']=np.where(train_data['is_image']>upper_bound,upper_bound,\n",
    "                        np.where(train_data['is_image']<lower_bound,lower_bound,train_data['is_image']))"
   ]
  },
  {
   "cell_type": "code",
   "execution_count": 47,
   "id": "e2511e1e",
   "metadata": {},
   "outputs": [],
   "source": [
    "train_data['is_personalised']=np.where(train_data['is_personalised']>upper_bound,upper_bound,\n",
    "                        np.where(train_data['is_personalised']<lower_bound,lower_bound,train_data['is_personalised']))"
   ]
  },
  {
   "cell_type": "code",
   "execution_count": 48,
   "id": "7b6280a6",
   "metadata": {},
   "outputs": [],
   "source": [
    "train_data['is_quote']=np.where(train_data['is_quote']>upper_bound,upper_bound,\n",
    "                        np.where(train_data['is_quote']<lower_bound,lower_bound,train_data['is_quote']))"
   ]
  },
  {
   "cell_type": "code",
   "execution_count": 49,
   "id": "54bf926a",
   "metadata": {},
   "outputs": [],
   "source": [
    "train_data['is_emoticons']=np.where(train_data['is_emoticons']>upper_bound,upper_bound,\n",
    "                        np.where(train_data['is_emoticons']<lower_bound,lower_bound,train_data['is_emoticons']))"
   ]
  },
  {
   "cell_type": "code",
   "execution_count": 50,
   "id": "20955162",
   "metadata": {},
   "outputs": [],
   "source": [
    "train_data['is_discount']=np.where(train_data['is_discount']>upper_bound,upper_bound,\n",
    "                        np.where(train_data['is_discount']<lower_bound,lower_bound,train_data['is_discount']))"
   ]
  },
  {
   "cell_type": "code",
   "execution_count": 51,
   "id": "c118931a",
   "metadata": {},
   "outputs": [],
   "source": [
    "train_data['is_price']=np.where(train_data['is_price']>upper_bound,upper_bound,\n",
    "                        np.where(train_data['is_price']<lower_bound,lower_bound,train_data['is_price']))"
   ]
  },
  {
   "cell_type": "code",
   "execution_count": 52,
   "id": "f414328b",
   "metadata": {},
   "outputs": [],
   "source": [
    "train_data['is_urgency']=np.where(train_data['is_urgency']>upper_bound,upper_bound,\n",
    "                        np.where(train_data['is_urgency']<lower_bound,lower_bound,train_data['is_urgency']))"
   ]
  },
  {
   "cell_type": "code",
   "execution_count": 53,
   "id": "e95738ad",
   "metadata": {},
   "outputs": [],
   "source": [
    "train_data['is_weekend']=np.where(train_data['is_weekend']>upper_bound,upper_bound,\n",
    "                        np.where(train_data['is_weekend']<lower_bound,lower_bound,train_data['is_weekend']))"
   ]
  },
  {
   "cell_type": "code",
   "execution_count": 54,
   "id": "43da9128",
   "metadata": {},
   "outputs": [],
   "source": [
    "train_data['sender']=np.where(train_data['sender']>upper_bound,upper_bound,\n",
    "                        np.where(train_data['sender']<lower_bound,lower_bound,train_data['sender']))"
   ]
  },
  {
   "cell_type": "code",
   "execution_count": 55,
   "id": "6450b6e6",
   "metadata": {},
   "outputs": [
    {
     "data": {
      "text/plain": [
       "0.000000    39\n",
       "0.500000     5\n",
       "0.083333     4\n",
       "0.033333     3\n",
       "0.008403     3\n",
       "            ..\n",
       "0.019727     1\n",
       "0.002228     1\n",
       "0.013577     1\n",
       "0.011013     1\n",
       "0.003644     1\n",
       "Name: click_rate, Length: 1810, dtype: int64"
      ]
     },
     "execution_count": 55,
     "metadata": {},
     "output_type": "execute_result"
    }
   ],
   "source": [
    "train_data['click_rate'].value_counts()"
   ]
  },
  {
   "cell_type": "code",
   "execution_count": 56,
   "id": "8a5cf766",
   "metadata": {},
   "outputs": [
    {
     "data": {
      "text/html": [
       "<div>\n",
       "<style scoped>\n",
       "    .dataframe tbody tr th:only-of-type {\n",
       "        vertical-align: middle;\n",
       "    }\n",
       "\n",
       "    .dataframe tbody tr th {\n",
       "        vertical-align: top;\n",
       "    }\n",
       "\n",
       "    .dataframe thead th {\n",
       "        text-align: right;\n",
       "    }\n",
       "</style>\n",
       "<table border=\"1\" class=\"dataframe\">\n",
       "  <thead>\n",
       "    <tr style=\"text-align: right;\">\n",
       "      <th></th>\n",
       "      <th>campaign_id</th>\n",
       "      <th>sender</th>\n",
       "      <th>subject_len</th>\n",
       "      <th>body_len</th>\n",
       "      <th>mean_paragraph_len</th>\n",
       "      <th>day_of_week</th>\n",
       "      <th>is_weekend</th>\n",
       "      <th>times_of_day</th>\n",
       "      <th>category</th>\n",
       "      <th>product</th>\n",
       "      <th>...</th>\n",
       "      <th>is_image</th>\n",
       "      <th>is_personalised</th>\n",
       "      <th>is_quote</th>\n",
       "      <th>is_timer</th>\n",
       "      <th>is_emoticons</th>\n",
       "      <th>is_discount</th>\n",
       "      <th>is_price</th>\n",
       "      <th>is_urgency</th>\n",
       "      <th>target_audience</th>\n",
       "      <th>click_rate</th>\n",
       "    </tr>\n",
       "  </thead>\n",
       "  <tbody>\n",
       "    <tr>\n",
       "      <th>0</th>\n",
       "      <td>1</td>\n",
       "      <td>3.0</td>\n",
       "      <td>76</td>\n",
       "      <td>10439</td>\n",
       "      <td>39</td>\n",
       "      <td>5</td>\n",
       "      <td>1.0</td>\n",
       "      <td>2</td>\n",
       "      <td>6</td>\n",
       "      <td>26</td>\n",
       "      <td>...</td>\n",
       "      <td>0.0</td>\n",
       "      <td>0.0</td>\n",
       "      <td>0.0</td>\n",
       "      <td>0</td>\n",
       "      <td>0.0</td>\n",
       "      <td>0.0</td>\n",
       "      <td>0.0</td>\n",
       "      <td>0.0</td>\n",
       "      <td>14</td>\n",
       "      <td>0.103079</td>\n",
       "    </tr>\n",
       "    <tr>\n",
       "      <th>1</th>\n",
       "      <td>2</td>\n",
       "      <td>3.0</td>\n",
       "      <td>54</td>\n",
       "      <td>2570</td>\n",
       "      <td>256</td>\n",
       "      <td>5</td>\n",
       "      <td>1.0</td>\n",
       "      <td>1</td>\n",
       "      <td>2</td>\n",
       "      <td>11</td>\n",
       "      <td>...</td>\n",
       "      <td>0.0</td>\n",
       "      <td>0.0</td>\n",
       "      <td>0.0</td>\n",
       "      <td>0</td>\n",
       "      <td>0.0</td>\n",
       "      <td>0.0</td>\n",
       "      <td>0.0</td>\n",
       "      <td>0.0</td>\n",
       "      <td>10</td>\n",
       "      <td>0.700000</td>\n",
       "    </tr>\n",
       "    <tr>\n",
       "      <th>2</th>\n",
       "      <td>3</td>\n",
       "      <td>3.0</td>\n",
       "      <td>59</td>\n",
       "      <td>12801</td>\n",
       "      <td>16</td>\n",
       "      <td>5</td>\n",
       "      <td>1.0</td>\n",
       "      <td>2</td>\n",
       "      <td>2</td>\n",
       "      <td>11</td>\n",
       "      <td>...</td>\n",
       "      <td>1.0</td>\n",
       "      <td>0.0</td>\n",
       "      <td>1.0</td>\n",
       "      <td>0</td>\n",
       "      <td>0.0</td>\n",
       "      <td>0.0</td>\n",
       "      <td>0.0</td>\n",
       "      <td>0.0</td>\n",
       "      <td>16</td>\n",
       "      <td>0.002769</td>\n",
       "    </tr>\n",
       "    <tr>\n",
       "      <th>3</th>\n",
       "      <td>4</td>\n",
       "      <td>3.0</td>\n",
       "      <td>74</td>\n",
       "      <td>11037</td>\n",
       "      <td>30</td>\n",
       "      <td>4</td>\n",
       "      <td>0.0</td>\n",
       "      <td>0</td>\n",
       "      <td>15</td>\n",
       "      <td>9</td>\n",
       "      <td>...</td>\n",
       "      <td>0.0</td>\n",
       "      <td>0.0</td>\n",
       "      <td>0.0</td>\n",
       "      <td>0</td>\n",
       "      <td>0.0</td>\n",
       "      <td>0.0</td>\n",
       "      <td>0.0</td>\n",
       "      <td>0.0</td>\n",
       "      <td>10</td>\n",
       "      <td>0.010868</td>\n",
       "    </tr>\n",
       "    <tr>\n",
       "      <th>4</th>\n",
       "      <td>5</td>\n",
       "      <td>3.0</td>\n",
       "      <td>80</td>\n",
       "      <td>10011</td>\n",
       "      <td>27</td>\n",
       "      <td>5</td>\n",
       "      <td>1.0</td>\n",
       "      <td>2</td>\n",
       "      <td>6</td>\n",
       "      <td>26</td>\n",
       "      <td>...</td>\n",
       "      <td>0.0</td>\n",
       "      <td>0.0</td>\n",
       "      <td>1.0</td>\n",
       "      <td>0</td>\n",
       "      <td>0.0</td>\n",
       "      <td>0.0</td>\n",
       "      <td>0.0</td>\n",
       "      <td>0.0</td>\n",
       "      <td>14</td>\n",
       "      <td>0.142826</td>\n",
       "    </tr>\n",
       "  </tbody>\n",
       "</table>\n",
       "<p>5 rows × 22 columns</p>\n",
       "</div>"
      ],
      "text/plain": [
       "   campaign_id  sender  subject_len  body_len  mean_paragraph_len  \\\n",
       "0            1     3.0           76     10439                  39   \n",
       "1            2     3.0           54      2570                 256   \n",
       "2            3     3.0           59     12801                  16   \n",
       "3            4     3.0           74     11037                  30   \n",
       "4            5     3.0           80     10011                  27   \n",
       "\n",
       "   day_of_week  is_weekend  times_of_day  category  product  ...  is_image  \\\n",
       "0            5         1.0             2         6       26  ...       0.0   \n",
       "1            5         1.0             1         2       11  ...       0.0   \n",
       "2            5         1.0             2         2       11  ...       1.0   \n",
       "3            4         0.0             0        15        9  ...       0.0   \n",
       "4            5         1.0             2         6       26  ...       0.0   \n",
       "\n",
       "   is_personalised  is_quote  is_timer  is_emoticons  is_discount  is_price  \\\n",
       "0              0.0       0.0         0           0.0          0.0       0.0   \n",
       "1              0.0       0.0         0           0.0          0.0       0.0   \n",
       "2              0.0       1.0         0           0.0          0.0       0.0   \n",
       "3              0.0       0.0         0           0.0          0.0       0.0   \n",
       "4              0.0       1.0         0           0.0          0.0       0.0   \n",
       "\n",
       "   is_urgency  target_audience  click_rate  \n",
       "0         0.0               14    0.103079  \n",
       "1         0.0               10    0.700000  \n",
       "2         0.0               16    0.002769  \n",
       "3         0.0               10    0.010868  \n",
       "4         0.0               14    0.142826  \n",
       "\n",
       "[5 rows x 22 columns]"
      ]
     },
     "execution_count": 56,
     "metadata": {},
     "output_type": "execute_result"
    }
   ],
   "source": [
    "train_data.head()"
   ]
  },
  {
   "cell_type": "raw",
   "id": "2236e16a",
   "metadata": {},
   "source": []
  },
  {
   "cell_type": "code",
   "execution_count": 57,
   "id": "4fa8010d",
   "metadata": {},
   "outputs": [
    {
     "data": {
      "text/plain": [
       "0.000000    39\n",
       "0.500000     5\n",
       "0.083333     4\n",
       "0.033333     3\n",
       "0.008403     3\n",
       "            ..\n",
       "0.019727     1\n",
       "0.002228     1\n",
       "0.013577     1\n",
       "0.011013     1\n",
       "0.003644     1\n",
       "Name: click_rate, Length: 1810, dtype: int64"
      ]
     },
     "execution_count": 57,
     "metadata": {},
     "output_type": "execute_result"
    }
   ],
   "source": [
    "train_data['click_rate'].value_counts()"
   ]
  },
  {
   "cell_type": "code",
   "execution_count": null,
   "id": "be1de78d",
   "metadata": {},
   "outputs": [],
   "source": []
  },
  {
   "cell_type": "code",
   "execution_count": null,
   "id": "8b9b7ab2",
   "metadata": {},
   "outputs": [],
   "source": []
  },
  {
   "cell_type": "markdown",
   "id": "89d9d154",
   "metadata": {},
   "source": [
    "# After removal"
   ]
  },
  {
   "cell_type": "code",
   "execution_count": 58,
   "id": "46b03348",
   "metadata": {},
   "outputs": [
    {
     "data": {
      "image/png": "[encoded data removed]",
      "text/plain": [
       "<Figure size 1152x288 with 2 Axes>"
      ]
     },
     "metadata": {
      "needs_background": "light"
     },
     "output_type": "display_data"
    }
   ],
   "source": [
    "plotvariable(train_data,'target_audience')"
   ]
  },
  {
   "cell_type": "code",
   "execution_count": 59,
   "id": "d26e5454",
   "metadata": {},
   "outputs": [
    {
     "data": {
      "image/png": "[encoded data removed]",
      "text/plain": [
       "<Figure size 1152x288 with 2 Axes>"
      ]
     },
     "metadata": {
      "needs_background": "light"
     },
     "output_type": "display_data"
    }
   ],
   "source": [
    "plotvariable(train_data,'sender')"
   ]
  },
  {
   "cell_type": "code",
   "execution_count": 60,
   "id": "f19598af",
   "metadata": {},
   "outputs": [
    {
     "data": {
      "image/png": "[encoded data removed]",
      "text/plain": [
       "<Figure size 1152x288 with 2 Axes>"
      ]
     },
     "metadata": {
      "needs_background": "light"
     },
     "output_type": "display_data"
    }
   ],
   "source": [
    "plotvariable(train_data,'subject_len')"
   ]
  },
  {
   "cell_type": "code",
   "execution_count": 61,
   "id": "6aaa3159",
   "metadata": {},
   "outputs": [
    {
     "data": {
      "image/png": "[encoded data removed]",
      "text/plain": [
       "<Figure size 1152x288 with 2 Axes>"
      ]
     },
     "metadata": {
      "needs_background": "light"
     },
     "output_type": "display_data"
    }
   ],
   "source": [
    "plotvariable(train_data,'body_len')"
   ]
  },
  {
   "cell_type": "code",
   "execution_count": 62,
   "id": "8ab17434",
   "metadata": {},
   "outputs": [
    {
     "data": {
      "image/png": "[encoded data removed]",
      "text/plain": [
       "<Figure size 1152x288 with 2 Axes>"
      ]
     },
     "metadata": {
      "needs_background": "light"
     },
     "output_type": "display_data"
    }
   ],
   "source": [
    "plotvariable(train_data,'mean_paragraph_len')"
   ]
  },
  {
   "cell_type": "code",
   "execution_count": 63,
   "id": "0e94db3e",
   "metadata": {},
   "outputs": [
    {
     "data": {
      "image/png": "[encoded data removed]",
      "text/plain": [
       "<Figure size 1152x288 with 2 Axes>"
      ]
     },
     "metadata": {
      "needs_background": "light"
     },
     "output_type": "display_data"
    }
   ],
   "source": [
    "plotvariable(train_data,'is_weekend')"
   ]
  },
  {
   "cell_type": "code",
   "execution_count": 64,
   "id": "fa13fc65",
   "metadata": {},
   "outputs": [
    {
     "data": {
      "image/png": "[encoded data removed]",
      "text/plain": [
       "<Figure size 1152x288 with 2 Axes>"
      ]
     },
     "metadata": {
      "needs_background": "light"
     },
     "output_type": "display_data"
    }
   ],
   "source": [
    "plotvariable(train_data,'subject_len')"
   ]
  },
  {
   "cell_type": "code",
   "execution_count": 65,
   "id": "228864bc",
   "metadata": {},
   "outputs": [
    {
     "data": {
      "image/png": "[encoded data removed]",
      "text/plain": [
       "<Figure size 1152x288 with 2 Axes>"
      ]
     },
     "metadata": {
      "needs_background": "light"
     },
     "output_type": "display_data"
    }
   ],
   "source": [
    "plotvariable(train_data,'times_of_day')"
   ]
  },
  {
   "cell_type": "code",
   "execution_count": 66,
   "id": "0090a160",
   "metadata": {},
   "outputs": [
    {
     "data": {
      "image/png": "[encoded data removed]",
      "text/plain": [
       "<Figure size 1152x288 with 2 Axes>"
      ]
     },
     "metadata": {
      "needs_background": "light"
     },
     "output_type": "display_data"
    }
   ],
   "source": [
    "plotvariable(train_data,'is_urgency')"
   ]
  },
  {
   "cell_type": "code",
   "execution_count": 67,
   "id": "f3cf174e",
   "metadata": {},
   "outputs": [
    {
     "data": {
      "image/png": "[encoded data removed]",
      "text/plain": [
       "<Figure size 1152x288 with 2 Axes>"
      ]
     },
     "metadata": {
      "needs_background": "light"
     },
     "output_type": "display_data"
    }
   ],
   "source": [
    "plotvariable(train_data,'is_price')"
   ]
  },
  {
   "cell_type": "code",
   "execution_count": 68,
   "id": "0f236fa0",
   "metadata": {},
   "outputs": [
    {
     "data": {
      "image/png": "[encoded data removed]",
      "text/plain": [
       "<Figure size 1152x288 with 2 Axes>"
      ]
     },
     "metadata": {
      "needs_background": "light"
     },
     "output_type": "display_data"
    }
   ],
   "source": [
    "plotvariable(train_data,'is_discount')"
   ]
  },
  {
   "cell_type": "code",
   "execution_count": 69,
   "id": "4990f56a",
   "metadata": {},
   "outputs": [
    {
     "data": {
      "image/png": "[encoded data removed]",
      "text/plain": [
       "<Figure size 1152x288 with 2 Axes>"
      ]
     },
     "metadata": {
      "needs_background": "light"
     },
     "output_type": "display_data"
    }
   ],
   "source": [
    "plotvariable(train_data,'is_emoticons')"
   ]
  },
  {
   "cell_type": "code",
   "execution_count": 70,
   "id": "72e4c723",
   "metadata": {},
   "outputs": [
    {
     "data": {
      "image/png": "[encoded data removed]",
      "text/plain": [
       "<Figure size 1152x288 with 2 Axes>"
      ]
     },
     "metadata": {
      "needs_background": "light"
     },
     "output_type": "display_data"
    }
   ],
   "source": [
    "plotvariable(train_data,'is_quote')"
   ]
  },
  {
   "cell_type": "code",
   "execution_count": 71,
   "id": "c12c696d",
   "metadata": {},
   "outputs": [
    {
     "data": {
      "image/png": "[encoded data removed]",
      "text/plain": [
       "<Figure size 1152x288 with 2 Axes>"
      ]
     },
     "metadata": {
      "needs_background": "light"
     },
     "output_type": "display_data"
    }
   ],
   "source": [
    "plotvariable(train_data,'is_personalised')"
   ]
  },
  {
   "cell_type": "code",
   "execution_count": 72,
   "id": "958ccb47",
   "metadata": {},
   "outputs": [
    {
     "data": {
      "image/png": "[encoded data removed]",
      "text/plain": [
       "<Figure size 1152x288 with 2 Axes>"
      ]
     },
     "metadata": {
      "needs_background": "light"
     },
     "output_type": "display_data"
    }
   ],
   "source": [
    "plotvariable(train_data,'is_image')"
   ]
  },
  {
   "cell_type": "code",
   "execution_count": 73,
   "id": "5d4974d2",
   "metadata": {},
   "outputs": [
    {
     "data": {
      "text/plain": [
       "(2650, 22)"
      ]
     },
     "execution_count": 73,
     "metadata": {},
     "output_type": "execute_result"
    }
   ],
   "source": [
    "train_data.shape"
   ]
  },
  {
   "cell_type": "code",
   "execution_count": 74,
   "id": "acd9d690",
   "metadata": {},
   "outputs": [
    {
     "data": {
      "text/html": [
       "<div>\n",
       "<style scoped>\n",
       "    .dataframe tbody tr th:only-of-type {\n",
       "        vertical-align: middle;\n",
       "    }\n",
       "\n",
       "    .dataframe tbody tr th {\n",
       "        vertical-align: top;\n",
       "    }\n",
       "\n",
       "    .dataframe thead th {\n",
       "        text-align: right;\n",
       "    }\n",
       "</style>\n",
       "<table border=\"1\" class=\"dataframe\">\n",
       "  <thead>\n",
       "    <tr style=\"text-align: right;\">\n",
       "      <th></th>\n",
       "      <th>campaign_id</th>\n",
       "      <th>sender</th>\n",
       "      <th>subject_len</th>\n",
       "      <th>body_len</th>\n",
       "      <th>mean_paragraph_len</th>\n",
       "      <th>day_of_week</th>\n",
       "      <th>is_weekend</th>\n",
       "      <th>times_of_day</th>\n",
       "      <th>category</th>\n",
       "      <th>product</th>\n",
       "      <th>...</th>\n",
       "      <th>is_image</th>\n",
       "      <th>is_personalised</th>\n",
       "      <th>is_quote</th>\n",
       "      <th>is_timer</th>\n",
       "      <th>is_emoticons</th>\n",
       "      <th>is_discount</th>\n",
       "      <th>is_price</th>\n",
       "      <th>is_urgency</th>\n",
       "      <th>target_audience</th>\n",
       "      <th>click_rate</th>\n",
       "    </tr>\n",
       "  </thead>\n",
       "  <tbody>\n",
       "    <tr>\n",
       "      <th>campaign_id</th>\n",
       "      <td>1.000000</td>\n",
       "      <td>0.246563</td>\n",
       "      <td>-0.027127</td>\n",
       "      <td>0.117420</td>\n",
       "      <td>-0.012131</td>\n",
       "      <td>0.026207</td>\n",
       "      <td>0.038012</td>\n",
       "      <td>0.024641</td>\n",
       "      <td>0.142338</td>\n",
       "      <td>0.136864</td>\n",
       "      <td>...</td>\n",
       "      <td>0.001895</td>\n",
       "      <td>0.101551</td>\n",
       "      <td>0.010502</td>\n",
       "      <td>NaN</td>\n",
       "      <td>-0.037837</td>\n",
       "      <td>-0.013733</td>\n",
       "      <td>-0.037044</td>\n",
       "      <td>-0.027777</td>\n",
       "      <td>-0.060257</td>\n",
       "      <td>0.053315</td>\n",
       "    </tr>\n",
       "    <tr>\n",
       "      <th>sender</th>\n",
       "      <td>0.246563</td>\n",
       "      <td>1.000000</td>\n",
       "      <td>-0.098448</td>\n",
       "      <td>0.181636</td>\n",
       "      <td>0.076462</td>\n",
       "      <td>-0.056873</td>\n",
       "      <td>-0.073785</td>\n",
       "      <td>0.028406</td>\n",
       "      <td>0.179909</td>\n",
       "      <td>0.071305</td>\n",
       "      <td>...</td>\n",
       "      <td>-0.108547</td>\n",
       "      <td>0.171549</td>\n",
       "      <td>0.023759</td>\n",
       "      <td>NaN</td>\n",
       "      <td>-0.087942</td>\n",
       "      <td>-0.022446</td>\n",
       "      <td>-0.047374</td>\n",
       "      <td>-0.047699</td>\n",
       "      <td>-0.095261</td>\n",
       "      <td>-0.015154</td>\n",
       "    </tr>\n",
       "    <tr>\n",
       "      <th>subject_len</th>\n",
       "      <td>-0.027127</td>\n",
       "      <td>-0.098448</td>\n",
       "      <td>1.000000</td>\n",
       "      <td>0.413432</td>\n",
       "      <td>-0.203044</td>\n",
       "      <td>-0.048937</td>\n",
       "      <td>-0.052177</td>\n",
       "      <td>0.015731</td>\n",
       "      <td>0.022331</td>\n",
       "      <td>-0.020213</td>\n",
       "      <td>...</td>\n",
       "      <td>-0.027524</td>\n",
       "      <td>-0.278186</td>\n",
       "      <td>0.108972</td>\n",
       "      <td>NaN</td>\n",
       "      <td>0.094095</td>\n",
       "      <td>0.118047</td>\n",
       "      <td>0.024450</td>\n",
       "      <td>0.107280</td>\n",
       "      <td>-0.025382</td>\n",
       "      <td>-0.180143</td>\n",
       "    </tr>\n",
       "    <tr>\n",
       "      <th>body_len</th>\n",
       "      <td>0.117420</td>\n",
       "      <td>0.181636</td>\n",
       "      <td>0.413432</td>\n",
       "      <td>1.000000</td>\n",
       "      <td>-0.478160</td>\n",
       "      <td>-0.076340</td>\n",
       "      <td>-0.080141</td>\n",
       "      <td>0.095318</td>\n",
       "      <td>0.028715</td>\n",
       "      <td>-0.034605</td>\n",
       "      <td>...</td>\n",
       "      <td>-0.025449</td>\n",
       "      <td>-0.217294</td>\n",
       "      <td>0.190295</td>\n",
       "      <td>NaN</td>\n",
       "      <td>-0.035802</td>\n",
       "      <td>0.048484</td>\n",
       "      <td>-0.008255</td>\n",
       "      <td>0.038375</td>\n",
       "      <td>-0.093880</td>\n",
       "      <td>-0.247866</td>\n",
       "    </tr>\n",
       "    <tr>\n",
       "      <th>mean_paragraph_len</th>\n",
       "      <td>-0.012131</td>\n",
       "      <td>0.076462</td>\n",
       "      <td>-0.203044</td>\n",
       "      <td>-0.478160</td>\n",
       "      <td>1.000000</td>\n",
       "      <td>-0.020135</td>\n",
       "      <td>-0.013456</td>\n",
       "      <td>-0.043922</td>\n",
       "      <td>0.051148</td>\n",
       "      <td>-0.062919</td>\n",
       "      <td>...</td>\n",
       "      <td>-0.091945</td>\n",
       "      <td>0.163053</td>\n",
       "      <td>-0.089636</td>\n",
       "      <td>NaN</td>\n",
       "      <td>-0.033626</td>\n",
       "      <td>-0.027081</td>\n",
       "      <td>0.013601</td>\n",
       "      <td>-0.043130</td>\n",
       "      <td>-0.083364</td>\n",
       "      <td>0.178042</td>\n",
       "    </tr>\n",
       "    <tr>\n",
       "      <th>day_of_week</th>\n",
       "      <td>0.026207</td>\n",
       "      <td>-0.056873</td>\n",
       "      <td>-0.048937</td>\n",
       "      <td>-0.076340</td>\n",
       "      <td>-0.020135</td>\n",
       "      <td>1.000000</td>\n",
       "      <td>0.722991</td>\n",
       "      <td>0.167536</td>\n",
       "      <td>-0.056488</td>\n",
       "      <td>-0.000002</td>\n",
       "      <td>...</td>\n",
       "      <td>0.014078</td>\n",
       "      <td>-0.057026</td>\n",
       "      <td>-0.033317</td>\n",
       "      <td>NaN</td>\n",
       "      <td>0.002947</td>\n",
       "      <td>-0.037799</td>\n",
       "      <td>0.002162</td>\n",
       "      <td>0.026551</td>\n",
       "      <td>0.083415</td>\n",
       "      <td>0.086372</td>\n",
       "    </tr>\n",
       "    <tr>\n",
       "      <th>is_weekend</th>\n",
       "      <td>0.038012</td>\n",
       "      <td>-0.073785</td>\n",
       "      <td>-0.052177</td>\n",
       "      <td>-0.080141</td>\n",
       "      <td>-0.013456</td>\n",
       "      <td>0.722991</td>\n",
       "      <td>1.000000</td>\n",
       "      <td>0.205662</td>\n",
       "      <td>-0.059727</td>\n",
       "      <td>-0.015602</td>\n",
       "      <td>...</td>\n",
       "      <td>0.037867</td>\n",
       "      <td>-0.056109</td>\n",
       "      <td>-0.037196</td>\n",
       "      <td>NaN</td>\n",
       "      <td>-0.000551</td>\n",
       "      <td>-0.039907</td>\n",
       "      <td>-0.028749</td>\n",
       "      <td>0.004184</td>\n",
       "      <td>0.049620</td>\n",
       "      <td>0.114138</td>\n",
       "    </tr>\n",
       "    <tr>\n",
       "      <th>times_of_day</th>\n",
       "      <td>0.024641</td>\n",
       "      <td>0.028406</td>\n",
       "      <td>0.015731</td>\n",
       "      <td>0.095318</td>\n",
       "      <td>-0.043922</td>\n",
       "      <td>0.167536</td>\n",
       "      <td>0.205662</td>\n",
       "      <td>1.000000</td>\n",
       "      <td>-0.199480</td>\n",
       "      <td>0.072565</td>\n",
       "      <td>...</td>\n",
       "      <td>0.002148</td>\n",
       "      <td>-0.070029</td>\n",
       "      <td>0.025542</td>\n",
       "      <td>NaN</td>\n",
       "      <td>-0.077726</td>\n",
       "      <td>-0.049692</td>\n",
       "      <td>-0.006296</td>\n",
       "      <td>-0.075383</td>\n",
       "      <td>-0.028248</td>\n",
       "      <td>0.125569</td>\n",
       "    </tr>\n",
       "    <tr>\n",
       "      <th>category</th>\n",
       "      <td>0.142338</td>\n",
       "      <td>0.179909</td>\n",
       "      <td>0.022331</td>\n",
       "      <td>0.028715</td>\n",
       "      <td>0.051148</td>\n",
       "      <td>-0.056488</td>\n",
       "      <td>-0.059727</td>\n",
       "      <td>-0.199480</td>\n",
       "      <td>1.000000</td>\n",
       "      <td>0.019923</td>\n",
       "      <td>...</td>\n",
       "      <td>-0.033170</td>\n",
       "      <td>0.128305</td>\n",
       "      <td>-0.076352</td>\n",
       "      <td>NaN</td>\n",
       "      <td>0.107489</td>\n",
       "      <td>0.156861</td>\n",
       "      <td>0.063801</td>\n",
       "      <td>0.185010</td>\n",
       "      <td>-0.025629</td>\n",
       "      <td>-0.167756</td>\n",
       "    </tr>\n",
       "    <tr>\n",
       "      <th>product</th>\n",
       "      <td>0.136864</td>\n",
       "      <td>0.071305</td>\n",
       "      <td>-0.020213</td>\n",
       "      <td>-0.034605</td>\n",
       "      <td>-0.062919</td>\n",
       "      <td>-0.000002</td>\n",
       "      <td>-0.015602</td>\n",
       "      <td>0.072565</td>\n",
       "      <td>0.019923</td>\n",
       "      <td>1.000000</td>\n",
       "      <td>...</td>\n",
       "      <td>0.037105</td>\n",
       "      <td>0.058270</td>\n",
       "      <td>-0.095862</td>\n",
       "      <td>NaN</td>\n",
       "      <td>0.016550</td>\n",
       "      <td>-0.004714</td>\n",
       "      <td>-0.025811</td>\n",
       "      <td>-0.109675</td>\n",
       "      <td>0.054795</td>\n",
       "      <td>0.121602</td>\n",
       "    </tr>\n",
       "    <tr>\n",
       "      <th>no_of_CTA</th>\n",
       "      <td>0.067709</td>\n",
       "      <td>0.119623</td>\n",
       "      <td>0.399823</td>\n",
       "      <td>0.557193</td>\n",
       "      <td>-0.171655</td>\n",
       "      <td>-0.049558</td>\n",
       "      <td>-0.034086</td>\n",
       "      <td>0.080723</td>\n",
       "      <td>-0.030933</td>\n",
       "      <td>0.027527</td>\n",
       "      <td>...</td>\n",
       "      <td>-0.007714</td>\n",
       "      <td>-0.147190</td>\n",
       "      <td>0.083542</td>\n",
       "      <td>NaN</td>\n",
       "      <td>-0.030667</td>\n",
       "      <td>0.045009</td>\n",
       "      <td>-0.016778</td>\n",
       "      <td>-0.007445</td>\n",
       "      <td>-0.015052</td>\n",
       "      <td>-0.172637</td>\n",
       "    </tr>\n",
       "    <tr>\n",
       "      <th>mean_CTA_len</th>\n",
       "      <td>0.052578</td>\n",
       "      <td>0.063012</td>\n",
       "      <td>0.175202</td>\n",
       "      <td>0.092141</td>\n",
       "      <td>0.034831</td>\n",
       "      <td>-0.007293</td>\n",
       "      <td>-0.031990</td>\n",
       "      <td>-0.021188</td>\n",
       "      <td>0.135744</td>\n",
       "      <td>0.055545</td>\n",
       "      <td>...</td>\n",
       "      <td>-0.013959</td>\n",
       "      <td>-0.144117</td>\n",
       "      <td>0.020541</td>\n",
       "      <td>NaN</td>\n",
       "      <td>0.040482</td>\n",
       "      <td>0.042076</td>\n",
       "      <td>0.027486</td>\n",
       "      <td>0.096398</td>\n",
       "      <td>-0.002138</td>\n",
       "      <td>-0.031162</td>\n",
       "    </tr>\n",
       "    <tr>\n",
       "      <th>is_image</th>\n",
       "      <td>0.001895</td>\n",
       "      <td>-0.108547</td>\n",
       "      <td>-0.027524</td>\n",
       "      <td>-0.025449</td>\n",
       "      <td>-0.091945</td>\n",
       "      <td>0.014078</td>\n",
       "      <td>0.037867</td>\n",
       "      <td>0.002148</td>\n",
       "      <td>-0.033170</td>\n",
       "      <td>0.037105</td>\n",
       "      <td>...</td>\n",
       "      <td>1.000000</td>\n",
       "      <td>0.011064</td>\n",
       "      <td>-0.074969</td>\n",
       "      <td>NaN</td>\n",
       "      <td>0.024151</td>\n",
       "      <td>0.002829</td>\n",
       "      <td>-0.019785</td>\n",
       "      <td>0.001144</td>\n",
       "      <td>0.013247</td>\n",
       "      <td>-0.021937</td>\n",
       "    </tr>\n",
       "    <tr>\n",
       "      <th>is_personalised</th>\n",
       "      <td>0.101551</td>\n",
       "      <td>0.171549</td>\n",
       "      <td>-0.278186</td>\n",
       "      <td>-0.217294</td>\n",
       "      <td>0.163053</td>\n",
       "      <td>-0.057026</td>\n",
       "      <td>-0.056109</td>\n",
       "      <td>-0.070029</td>\n",
       "      <td>0.128305</td>\n",
       "      <td>0.058270</td>\n",
       "      <td>...</td>\n",
       "      <td>0.011064</td>\n",
       "      <td>1.000000</td>\n",
       "      <td>-0.004467</td>\n",
       "      <td>NaN</td>\n",
       "      <td>-0.045713</td>\n",
       "      <td>-0.046525</td>\n",
       "      <td>-0.018977</td>\n",
       "      <td>-0.084224</td>\n",
       "      <td>-0.020649</td>\n",
       "      <td>0.032922</td>\n",
       "    </tr>\n",
       "    <tr>\n",
       "      <th>is_quote</th>\n",
       "      <td>0.010502</td>\n",
       "      <td>0.023759</td>\n",
       "      <td>0.108972</td>\n",
       "      <td>0.190295</td>\n",
       "      <td>-0.089636</td>\n",
       "      <td>-0.033317</td>\n",
       "      <td>-0.037196</td>\n",
       "      <td>0.025542</td>\n",
       "      <td>-0.076352</td>\n",
       "      <td>-0.095862</td>\n",
       "      <td>...</td>\n",
       "      <td>-0.074969</td>\n",
       "      <td>-0.004467</td>\n",
       "      <td>1.000000</td>\n",
       "      <td>NaN</td>\n",
       "      <td>-0.023033</td>\n",
       "      <td>-0.004352</td>\n",
       "      <td>-0.042987</td>\n",
       "      <td>-0.042472</td>\n",
       "      <td>-0.038332</td>\n",
       "      <td>-0.099212</td>\n",
       "    </tr>\n",
       "    <tr>\n",
       "      <th>is_timer</th>\n",
       "      <td>NaN</td>\n",
       "      <td>NaN</td>\n",
       "      <td>NaN</td>\n",
       "      <td>NaN</td>\n",
       "      <td>NaN</td>\n",
       "      <td>NaN</td>\n",
       "      <td>NaN</td>\n",
       "      <td>NaN</td>\n",
       "      <td>NaN</td>\n",
       "      <td>NaN</td>\n",
       "      <td>...</td>\n",
       "      <td>NaN</td>\n",
       "      <td>NaN</td>\n",
       "      <td>NaN</td>\n",
       "      <td>NaN</td>\n",
       "      <td>NaN</td>\n",
       "      <td>NaN</td>\n",
       "      <td>NaN</td>\n",
       "      <td>NaN</td>\n",
       "      <td>NaN</td>\n",
       "      <td>NaN</td>\n",
       "    </tr>\n",
       "    <tr>\n",
       "      <th>is_emoticons</th>\n",
       "      <td>-0.037837</td>\n",
       "      <td>-0.087942</td>\n",
       "      <td>0.094095</td>\n",
       "      <td>-0.035802</td>\n",
       "      <td>-0.033626</td>\n",
       "      <td>0.002947</td>\n",
       "      <td>-0.000551</td>\n",
       "      <td>-0.077726</td>\n",
       "      <td>0.107489</td>\n",
       "      <td>0.016550</td>\n",
       "      <td>...</td>\n",
       "      <td>0.024151</td>\n",
       "      <td>-0.045713</td>\n",
       "      <td>-0.023033</td>\n",
       "      <td>NaN</td>\n",
       "      <td>1.000000</td>\n",
       "      <td>0.017181</td>\n",
       "      <td>-0.027893</td>\n",
       "      <td>0.123484</td>\n",
       "      <td>0.046307</td>\n",
       "      <td>-0.095202</td>\n",
       "    </tr>\n",
       "    <tr>\n",
       "      <th>is_discount</th>\n",
       "      <td>-0.013733</td>\n",
       "      <td>-0.022446</td>\n",
       "      <td>0.118047</td>\n",
       "      <td>0.048484</td>\n",
       "      <td>-0.027081</td>\n",
       "      <td>-0.037799</td>\n",
       "      <td>-0.039907</td>\n",
       "      <td>-0.049692</td>\n",
       "      <td>0.156861</td>\n",
       "      <td>-0.004714</td>\n",
       "      <td>...</td>\n",
       "      <td>0.002829</td>\n",
       "      <td>-0.046525</td>\n",
       "      <td>-0.004352</td>\n",
       "      <td>NaN</td>\n",
       "      <td>0.017181</td>\n",
       "      <td>1.000000</td>\n",
       "      <td>0.083868</td>\n",
       "      <td>0.193902</td>\n",
       "      <td>-0.017544</td>\n",
       "      <td>-0.086105</td>\n",
       "    </tr>\n",
       "    <tr>\n",
       "      <th>is_price</th>\n",
       "      <td>-0.037044</td>\n",
       "      <td>-0.047374</td>\n",
       "      <td>0.024450</td>\n",
       "      <td>-0.008255</td>\n",
       "      <td>0.013601</td>\n",
       "      <td>0.002162</td>\n",
       "      <td>-0.028749</td>\n",
       "      <td>-0.006296</td>\n",
       "      <td>0.063801</td>\n",
       "      <td>-0.025811</td>\n",
       "      <td>...</td>\n",
       "      <td>-0.019785</td>\n",
       "      <td>-0.018977</td>\n",
       "      <td>-0.042987</td>\n",
       "      <td>NaN</td>\n",
       "      <td>-0.027893</td>\n",
       "      <td>0.083868</td>\n",
       "      <td>1.000000</td>\n",
       "      <td>0.046042</td>\n",
       "      <td>0.014541</td>\n",
       "      <td>-0.031621</td>\n",
       "    </tr>\n",
       "    <tr>\n",
       "      <th>is_urgency</th>\n",
       "      <td>-0.027777</td>\n",
       "      <td>-0.047699</td>\n",
       "      <td>0.107280</td>\n",
       "      <td>0.038375</td>\n",
       "      <td>-0.043130</td>\n",
       "      <td>0.026551</td>\n",
       "      <td>0.004184</td>\n",
       "      <td>-0.075383</td>\n",
       "      <td>0.185010</td>\n",
       "      <td>-0.109675</td>\n",
       "      <td>...</td>\n",
       "      <td>0.001144</td>\n",
       "      <td>-0.084224</td>\n",
       "      <td>-0.042472</td>\n",
       "      <td>NaN</td>\n",
       "      <td>0.123484</td>\n",
       "      <td>0.193902</td>\n",
       "      <td>0.046042</td>\n",
       "      <td>1.000000</td>\n",
       "      <td>0.067440</td>\n",
       "      <td>-0.114284</td>\n",
       "    </tr>\n",
       "    <tr>\n",
       "      <th>target_audience</th>\n",
       "      <td>-0.060257</td>\n",
       "      <td>-0.095261</td>\n",
       "      <td>-0.025382</td>\n",
       "      <td>-0.093880</td>\n",
       "      <td>-0.083364</td>\n",
       "      <td>0.083415</td>\n",
       "      <td>0.049620</td>\n",
       "      <td>-0.028248</td>\n",
       "      <td>-0.025629</td>\n",
       "      <td>0.054795</td>\n",
       "      <td>...</td>\n",
       "      <td>0.013247</td>\n",
       "      <td>-0.020649</td>\n",
       "      <td>-0.038332</td>\n",
       "      <td>NaN</td>\n",
       "      <td>0.046307</td>\n",
       "      <td>-0.017544</td>\n",
       "      <td>0.014541</td>\n",
       "      <td>0.067440</td>\n",
       "      <td>1.000000</td>\n",
       "      <td>0.038713</td>\n",
       "    </tr>\n",
       "    <tr>\n",
       "      <th>click_rate</th>\n",
       "      <td>0.053315</td>\n",
       "      <td>-0.015154</td>\n",
       "      <td>-0.180143</td>\n",
       "      <td>-0.247866</td>\n",
       "      <td>0.178042</td>\n",
       "      <td>0.086372</td>\n",
       "      <td>0.114138</td>\n",
       "      <td>0.125569</td>\n",
       "      <td>-0.167756</td>\n",
       "      <td>0.121602</td>\n",
       "      <td>...</td>\n",
       "      <td>-0.021937</td>\n",
       "      <td>0.032922</td>\n",
       "      <td>-0.099212</td>\n",
       "      <td>NaN</td>\n",
       "      <td>-0.095202</td>\n",
       "      <td>-0.086105</td>\n",
       "      <td>-0.031621</td>\n",
       "      <td>-0.114284</td>\n",
       "      <td>0.038713</td>\n",
       "      <td>1.000000</td>\n",
       "    </tr>\n",
       "  </tbody>\n",
       "</table>\n",
       "<p>22 rows × 22 columns</p>\n",
       "</div>"
      ],
      "text/plain": [
       "                    campaign_id    sender  subject_len  body_len  \\\n",
       "campaign_id            1.000000  0.246563    -0.027127  0.117420   \n",
       "sender                 0.246563  1.000000    -0.098448  0.181636   \n",
       "subject_len           -0.027127 -0.098448     1.000000  0.413432   \n",
       "body_len               0.117420  0.181636     0.413432  1.000000   \n",
       "mean_paragraph_len    -0.012131  0.076462    -0.203044 -0.478160   \n",
       "day_of_week            0.026207 -0.056873    -0.048937 -0.076340   \n",
       "is_weekend             0.038012 -0.073785    -0.052177 -0.080141   \n",
       "times_of_day           0.024641  0.028406     0.015731  0.095318   \n",
       "category               0.142338  0.179909     0.022331  0.028715   \n",
       "product                0.136864  0.071305    -0.020213 -0.034605   \n",
       "no_of_CTA              0.067709  0.119623     0.399823  0.557193   \n",
       "mean_CTA_len           0.052578  0.063012     0.175202  0.092141   \n",
       "is_image               0.001895 -0.108547    -0.027524 -0.025449   \n",
       "is_personalised        0.101551  0.171549    -0.278186 -0.217294   \n",
       "is_quote               0.010502  0.023759     0.108972  0.190295   \n",
       "is_timer                    NaN       NaN          NaN       NaN   \n",
       "is_emoticons          -0.037837 -0.087942     0.094095 -0.035802   \n",
       "is_discount           -0.013733 -0.022446     0.118047  0.048484   \n",
       "is_price              -0.037044 -0.047374     0.024450 -0.008255   \n",
       "is_urgency            -0.027777 -0.047699     0.107280  0.038375   \n",
       "target_audience       -0.060257 -0.095261    -0.025382 -0.093880   \n",
       "click_rate             0.053315 -0.015154    -0.180143 -0.247866   \n",
       "\n",
       "                    mean_paragraph_len  day_of_week  is_weekend  times_of_day  \\\n",
       "campaign_id                  -0.012131     0.026207    0.038012      0.024641   \n",
       "sender                        0.076462    -0.056873   -0.073785      0.028406   \n",
       "subject_len                  -0.203044    -0.048937   -0.052177      0.015731   \n",
       "body_len                     -0.478160    -0.076340   -0.080141      0.095318   \n",
       "mean_paragraph_len            1.000000    -0.020135   -0.013456     -0.043922   \n",
       "day_of_week                  -0.020135     1.000000    0.722991      0.167536   \n",
       "is_weekend                   -0.013456     0.722991    1.000000      0.205662   \n",
       "times_of_day                 -0.043922     0.167536    0.205662      1.000000   \n",
       "category                      0.051148    -0.056488   -0.059727     -0.199480   \n",
       "product                      -0.062919    -0.000002   -0.015602      0.072565   \n",
       "no_of_CTA                    -0.171655    -0.049558   -0.034086      0.080723   \n",
       "mean_CTA_len                  0.034831    -0.007293   -0.031990     -0.021188   \n",
       "is_image                     -0.091945     0.014078    0.037867      0.002148   \n",
       "is_personalised               0.163053    -0.057026   -0.056109     -0.070029   \n",
       "is_quote                     -0.089636    -0.033317   -0.037196      0.025542   \n",
       "is_timer                           NaN          NaN         NaN           NaN   \n",
       "is_emoticons                 -0.033626     0.002947   -0.000551     -0.077726   \n",
       "is_discount                  -0.027081    -0.037799   -0.039907     -0.049692   \n",
       "is_price                      0.013601     0.002162   -0.028749     -0.006296   \n",
       "is_urgency                   -0.043130     0.026551    0.004184     -0.075383   \n",
       "target_audience              -0.083364     0.083415    0.049620     -0.028248   \n",
       "click_rate                    0.178042     0.086372    0.114138      0.125569   \n",
       "\n",
       "                    category   product  ...  is_image  is_personalised  \\\n",
       "campaign_id         0.142338  0.136864  ...  0.001895         0.101551   \n",
       "sender              0.179909  0.071305  ... -0.108547         0.171549   \n",
       "subject_len         0.022331 -0.020213  ... -0.027524        -0.278186   \n",
       "body_len            0.028715 -0.034605  ... -0.025449        -0.217294   \n",
       "mean_paragraph_len  0.051148 -0.062919  ... -0.091945         0.163053   \n",
       "day_of_week        -0.056488 -0.000002  ...  0.014078        -0.057026   \n",
       "is_weekend         -0.059727 -0.015602  ...  0.037867        -0.056109   \n",
       "times_of_day       -0.199480  0.072565  ...  0.002148        -0.070029   \n",
       "category            1.000000  0.019923  ... -0.033170         0.128305   \n",
       "product             0.019923  1.000000  ...  0.037105         0.058270   \n",
       "no_of_CTA          -0.030933  0.027527  ... -0.007714        -0.147190   \n",
       "mean_CTA_len        0.135744  0.055545  ... -0.013959        -0.144117   \n",
       "is_image           -0.033170  0.037105  ...  1.000000         0.011064   \n",
       "is_personalised     0.128305  0.058270  ...  0.011064         1.000000   \n",
       "is_quote           -0.076352 -0.095862  ... -0.074969        -0.004467   \n",
       "is_timer                 NaN       NaN  ...       NaN              NaN   \n",
       "is_emoticons        0.107489  0.016550  ...  0.024151        -0.045713   \n",
       "is_discount         0.156861 -0.004714  ...  0.002829        -0.046525   \n",
       "is_price            0.063801 -0.025811  ... -0.019785        -0.018977   \n",
       "is_urgency          0.185010 -0.109675  ...  0.001144        -0.084224   \n",
       "target_audience    -0.025629  0.054795  ...  0.013247        -0.020649   \n",
       "click_rate         -0.167756  0.121602  ... -0.021937         0.032922   \n",
       "\n",
       "                    is_quote  is_timer  is_emoticons  is_discount  is_price  \\\n",
       "campaign_id         0.010502       NaN     -0.037837    -0.013733 -0.037044   \n",
       "sender              0.023759       NaN     -0.087942    -0.022446 -0.047374   \n",
       "subject_len         0.108972       NaN      0.094095     0.118047  0.024450   \n",
       "body_len            0.190295       NaN     -0.035802     0.048484 -0.008255   \n",
       "mean_paragraph_len -0.089636       NaN     -0.033626    -0.027081  0.013601   \n",
       "day_of_week        -0.033317       NaN      0.002947    -0.037799  0.002162   \n",
       "is_weekend         -0.037196       NaN     -0.000551    -0.039907 -0.028749   \n",
       "times_of_day        0.025542       NaN     -0.077726    -0.049692 -0.006296   \n",
       "category           -0.076352       NaN      0.107489     0.156861  0.063801   \n",
       "product            -0.095862       NaN      0.016550    -0.004714 -0.025811   \n",
       "no_of_CTA           0.083542       NaN     -0.030667     0.045009 -0.016778   \n",
       "mean_CTA_len        0.020541       NaN      0.040482     0.042076  0.027486   \n",
       "is_image           -0.074969       NaN      0.024151     0.002829 -0.019785   \n",
       "is_personalised    -0.004467       NaN     -0.045713    -0.046525 -0.018977   \n",
       "is_quote            1.000000       NaN     -0.023033    -0.004352 -0.042987   \n",
       "is_timer                 NaN       NaN           NaN          NaN       NaN   \n",
       "is_emoticons       -0.023033       NaN      1.000000     0.017181 -0.027893   \n",
       "is_discount        -0.004352       NaN      0.017181     1.000000  0.083868   \n",
       "is_price           -0.042987       NaN     -0.027893     0.083868  1.000000   \n",
       "is_urgency         -0.042472       NaN      0.123484     0.193902  0.046042   \n",
       "target_audience    -0.038332       NaN      0.046307    -0.017544  0.014541   \n",
       "click_rate         -0.099212       NaN     -0.095202    -0.086105 -0.031621   \n",
       "\n",
       "                    is_urgency  target_audience  click_rate  \n",
       "campaign_id          -0.027777        -0.060257    0.053315  \n",
       "sender               -0.047699        -0.095261   -0.015154  \n",
       "subject_len           0.107280        -0.025382   -0.180143  \n",
       "body_len              0.038375        -0.093880   -0.247866  \n",
       "mean_paragraph_len   -0.043130        -0.083364    0.178042  \n",
       "day_of_week           0.026551         0.083415    0.086372  \n",
       "is_weekend            0.004184         0.049620    0.114138  \n",
       "times_of_day         -0.075383        -0.028248    0.125569  \n",
       "category              0.185010        -0.025629   -0.167756  \n",
       "product              -0.109675         0.054795    0.121602  \n",
       "no_of_CTA            -0.007445        -0.015052   -0.172637  \n",
       "mean_CTA_len          0.096398        -0.002138   -0.031162  \n",
       "is_image              0.001144         0.013247   -0.021937  \n",
       "is_personalised      -0.084224        -0.020649    0.032922  \n",
       "is_quote             -0.042472        -0.038332   -0.099212  \n",
       "is_timer                   NaN              NaN         NaN  \n",
       "is_emoticons          0.123484         0.046307   -0.095202  \n",
       "is_discount           0.193902        -0.017544   -0.086105  \n",
       "is_price              0.046042         0.014541   -0.031621  \n",
       "is_urgency            1.000000         0.067440   -0.114284  \n",
       "target_audience       0.067440         1.000000    0.038713  \n",
       "click_rate           -0.114284         0.038713    1.000000  \n",
       "\n",
       "[22 rows x 22 columns]"
      ]
     },
     "execution_count": 74,
     "metadata": {},
     "output_type": "execute_result"
    }
   ],
   "source": [
    "train_data.corr()"
   ]
  },
  {
   "cell_type": "code",
   "execution_count": 75,
   "id": "a41c3c1d",
   "metadata": {},
   "outputs": [],
   "source": [
    "# there is one column 'is_timer' having no relation so drop the column"
   ]
  },
  {
   "cell_type": "code",
   "execution_count": 76,
   "id": "569e38cf",
   "metadata": {},
   "outputs": [],
   "source": [
    "train_data.drop(['is_timer'],axis=1,inplace=True)"
   ]
  },
  {
   "cell_type": "code",
   "execution_count": 77,
   "id": "8fb6c317",
   "metadata": {},
   "outputs": [
    {
     "data": {
      "text/html": [
       "<div>\n",
       "<style scoped>\n",
       "    .dataframe tbody tr th:only-of-type {\n",
       "        vertical-align: middle;\n",
       "    }\n",
       "\n",
       "    .dataframe tbody tr th {\n",
       "        vertical-align: top;\n",
       "    }\n",
       "\n",
       "    .dataframe thead th {\n",
       "        text-align: right;\n",
       "    }\n",
       "</style>\n",
       "<table border=\"1\" class=\"dataframe\">\n",
       "  <thead>\n",
       "    <tr style=\"text-align: right;\">\n",
       "      <th></th>\n",
       "      <th>campaign_id</th>\n",
       "      <th>sender</th>\n",
       "      <th>subject_len</th>\n",
       "      <th>body_len</th>\n",
       "      <th>mean_paragraph_len</th>\n",
       "      <th>day_of_week</th>\n",
       "      <th>is_weekend</th>\n",
       "      <th>times_of_day</th>\n",
       "      <th>category</th>\n",
       "      <th>product</th>\n",
       "      <th>...</th>\n",
       "      <th>mean_CTA_len</th>\n",
       "      <th>is_image</th>\n",
       "      <th>is_personalised</th>\n",
       "      <th>is_quote</th>\n",
       "      <th>is_emoticons</th>\n",
       "      <th>is_discount</th>\n",
       "      <th>is_price</th>\n",
       "      <th>is_urgency</th>\n",
       "      <th>target_audience</th>\n",
       "      <th>click_rate</th>\n",
       "    </tr>\n",
       "  </thead>\n",
       "  <tbody>\n",
       "    <tr>\n",
       "      <th>campaign_id</th>\n",
       "      <td>1.000000</td>\n",
       "      <td>0.246563</td>\n",
       "      <td>-0.027127</td>\n",
       "      <td>0.117420</td>\n",
       "      <td>-0.012131</td>\n",
       "      <td>0.026207</td>\n",
       "      <td>0.038012</td>\n",
       "      <td>0.024641</td>\n",
       "      <td>0.142338</td>\n",
       "      <td>0.136864</td>\n",
       "      <td>...</td>\n",
       "      <td>0.052578</td>\n",
       "      <td>0.001895</td>\n",
       "      <td>0.101551</td>\n",
       "      <td>0.010502</td>\n",
       "      <td>-0.037837</td>\n",
       "      <td>-0.013733</td>\n",
       "      <td>-0.037044</td>\n",
       "      <td>-0.027777</td>\n",
       "      <td>-0.060257</td>\n",
       "      <td>0.053315</td>\n",
       "    </tr>\n",
       "    <tr>\n",
       "      <th>sender</th>\n",
       "      <td>0.246563</td>\n",
       "      <td>1.000000</td>\n",
       "      <td>-0.098448</td>\n",
       "      <td>0.181636</td>\n",
       "      <td>0.076462</td>\n",
       "      <td>-0.056873</td>\n",
       "      <td>-0.073785</td>\n",
       "      <td>0.028406</td>\n",
       "      <td>0.179909</td>\n",
       "      <td>0.071305</td>\n",
       "      <td>...</td>\n",
       "      <td>0.063012</td>\n",
       "      <td>-0.108547</td>\n",
       "      <td>0.171549</td>\n",
       "      <td>0.023759</td>\n",
       "      <td>-0.087942</td>\n",
       "      <td>-0.022446</td>\n",
       "      <td>-0.047374</td>\n",
       "      <td>-0.047699</td>\n",
       "      <td>-0.095261</td>\n",
       "      <td>-0.015154</td>\n",
       "    </tr>\n",
       "    <tr>\n",
       "      <th>subject_len</th>\n",
       "      <td>-0.027127</td>\n",
       "      <td>-0.098448</td>\n",
       "      <td>1.000000</td>\n",
       "      <td>0.413432</td>\n",
       "      <td>-0.203044</td>\n",
       "      <td>-0.048937</td>\n",
       "      <td>-0.052177</td>\n",
       "      <td>0.015731</td>\n",
       "      <td>0.022331</td>\n",
       "      <td>-0.020213</td>\n",
       "      <td>...</td>\n",
       "      <td>0.175202</td>\n",
       "      <td>-0.027524</td>\n",
       "      <td>-0.278186</td>\n",
       "      <td>0.108972</td>\n",
       "      <td>0.094095</td>\n",
       "      <td>0.118047</td>\n",
       "      <td>0.024450</td>\n",
       "      <td>0.107280</td>\n",
       "      <td>-0.025382</td>\n",
       "      <td>-0.180143</td>\n",
       "    </tr>\n",
       "    <tr>\n",
       "      <th>body_len</th>\n",
       "      <td>0.117420</td>\n",
       "      <td>0.181636</td>\n",
       "      <td>0.413432</td>\n",
       "      <td>1.000000</td>\n",
       "      <td>-0.478160</td>\n",
       "      <td>-0.076340</td>\n",
       "      <td>-0.080141</td>\n",
       "      <td>0.095318</td>\n",
       "      <td>0.028715</td>\n",
       "      <td>-0.034605</td>\n",
       "      <td>...</td>\n",
       "      <td>0.092141</td>\n",
       "      <td>-0.025449</td>\n",
       "      <td>-0.217294</td>\n",
       "      <td>0.190295</td>\n",
       "      <td>-0.035802</td>\n",
       "      <td>0.048484</td>\n",
       "      <td>-0.008255</td>\n",
       "      <td>0.038375</td>\n",
       "      <td>-0.093880</td>\n",
       "      <td>-0.247866</td>\n",
       "    </tr>\n",
       "    <tr>\n",
       "      <th>mean_paragraph_len</th>\n",
       "      <td>-0.012131</td>\n",
       "      <td>0.076462</td>\n",
       "      <td>-0.203044</td>\n",
       "      <td>-0.478160</td>\n",
       "      <td>1.000000</td>\n",
       "      <td>-0.020135</td>\n",
       "      <td>-0.013456</td>\n",
       "      <td>-0.043922</td>\n",
       "      <td>0.051148</td>\n",
       "      <td>-0.062919</td>\n",
       "      <td>...</td>\n",
       "      <td>0.034831</td>\n",
       "      <td>-0.091945</td>\n",
       "      <td>0.163053</td>\n",
       "      <td>-0.089636</td>\n",
       "      <td>-0.033626</td>\n",
       "      <td>-0.027081</td>\n",
       "      <td>0.013601</td>\n",
       "      <td>-0.043130</td>\n",
       "      <td>-0.083364</td>\n",
       "      <td>0.178042</td>\n",
       "    </tr>\n",
       "    <tr>\n",
       "      <th>day_of_week</th>\n",
       "      <td>0.026207</td>\n",
       "      <td>-0.056873</td>\n",
       "      <td>-0.048937</td>\n",
       "      <td>-0.076340</td>\n",
       "      <td>-0.020135</td>\n",
       "      <td>1.000000</td>\n",
       "      <td>0.722991</td>\n",
       "      <td>0.167536</td>\n",
       "      <td>-0.056488</td>\n",
       "      <td>-0.000002</td>\n",
       "      <td>...</td>\n",
       "      <td>-0.007293</td>\n",
       "      <td>0.014078</td>\n",
       "      <td>-0.057026</td>\n",
       "      <td>-0.033317</td>\n",
       "      <td>0.002947</td>\n",
       "      <td>-0.037799</td>\n",
       "      <td>0.002162</td>\n",
       "      <td>0.026551</td>\n",
       "      <td>0.083415</td>\n",
       "      <td>0.086372</td>\n",
       "    </tr>\n",
       "    <tr>\n",
       "      <th>is_weekend</th>\n",
       "      <td>0.038012</td>\n",
       "      <td>-0.073785</td>\n",
       "      <td>-0.052177</td>\n",
       "      <td>-0.080141</td>\n",
       "      <td>-0.013456</td>\n",
       "      <td>0.722991</td>\n",
       "      <td>1.000000</td>\n",
       "      <td>0.205662</td>\n",
       "      <td>-0.059727</td>\n",
       "      <td>-0.015602</td>\n",
       "      <td>...</td>\n",
       "      <td>-0.031990</td>\n",
       "      <td>0.037867</td>\n",
       "      <td>-0.056109</td>\n",
       "      <td>-0.037196</td>\n",
       "      <td>-0.000551</td>\n",
       "      <td>-0.039907</td>\n",
       "      <td>-0.028749</td>\n",
       "      <td>0.004184</td>\n",
       "      <td>0.049620</td>\n",
       "      <td>0.114138</td>\n",
       "    </tr>\n",
       "    <tr>\n",
       "      <th>times_of_day</th>\n",
       "      <td>0.024641</td>\n",
       "      <td>0.028406</td>\n",
       "      <td>0.015731</td>\n",
       "      <td>0.095318</td>\n",
       "      <td>-0.043922</td>\n",
       "      <td>0.167536</td>\n",
       "      <td>0.205662</td>\n",
       "      <td>1.000000</td>\n",
       "      <td>-0.199480</td>\n",
       "      <td>0.072565</td>\n",
       "      <td>...</td>\n",
       "      <td>-0.021188</td>\n",
       "      <td>0.002148</td>\n",
       "      <td>-0.070029</td>\n",
       "      <td>0.025542</td>\n",
       "      <td>-0.077726</td>\n",
       "      <td>-0.049692</td>\n",
       "      <td>-0.006296</td>\n",
       "      <td>-0.075383</td>\n",
       "      <td>-0.028248</td>\n",
       "      <td>0.125569</td>\n",
       "    </tr>\n",
       "    <tr>\n",
       "      <th>category</th>\n",
       "      <td>0.142338</td>\n",
       "      <td>0.179909</td>\n",
       "      <td>0.022331</td>\n",
       "      <td>0.028715</td>\n",
       "      <td>0.051148</td>\n",
       "      <td>-0.056488</td>\n",
       "      <td>-0.059727</td>\n",
       "      <td>-0.199480</td>\n",
       "      <td>1.000000</td>\n",
       "      <td>0.019923</td>\n",
       "      <td>...</td>\n",
       "      <td>0.135744</td>\n",
       "      <td>-0.033170</td>\n",
       "      <td>0.128305</td>\n",
       "      <td>-0.076352</td>\n",
       "      <td>0.107489</td>\n",
       "      <td>0.156861</td>\n",
       "      <td>0.063801</td>\n",
       "      <td>0.185010</td>\n",
       "      <td>-0.025629</td>\n",
       "      <td>-0.167756</td>\n",
       "    </tr>\n",
       "    <tr>\n",
       "      <th>product</th>\n",
       "      <td>0.136864</td>\n",
       "      <td>0.071305</td>\n",
       "      <td>-0.020213</td>\n",
       "      <td>-0.034605</td>\n",
       "      <td>-0.062919</td>\n",
       "      <td>-0.000002</td>\n",
       "      <td>-0.015602</td>\n",
       "      <td>0.072565</td>\n",
       "      <td>0.019923</td>\n",
       "      <td>1.000000</td>\n",
       "      <td>...</td>\n",
       "      <td>0.055545</td>\n",
       "      <td>0.037105</td>\n",
       "      <td>0.058270</td>\n",
       "      <td>-0.095862</td>\n",
       "      <td>0.016550</td>\n",
       "      <td>-0.004714</td>\n",
       "      <td>-0.025811</td>\n",
       "      <td>-0.109675</td>\n",
       "      <td>0.054795</td>\n",
       "      <td>0.121602</td>\n",
       "    </tr>\n",
       "    <tr>\n",
       "      <th>no_of_CTA</th>\n",
       "      <td>0.067709</td>\n",
       "      <td>0.119623</td>\n",
       "      <td>0.399823</td>\n",
       "      <td>0.557193</td>\n",
       "      <td>-0.171655</td>\n",
       "      <td>-0.049558</td>\n",
       "      <td>-0.034086</td>\n",
       "      <td>0.080723</td>\n",
       "      <td>-0.030933</td>\n",
       "      <td>0.027527</td>\n",
       "      <td>...</td>\n",
       "      <td>0.178183</td>\n",
       "      <td>-0.007714</td>\n",
       "      <td>-0.147190</td>\n",
       "      <td>0.083542</td>\n",
       "      <td>-0.030667</td>\n",
       "      <td>0.045009</td>\n",
       "      <td>-0.016778</td>\n",
       "      <td>-0.007445</td>\n",
       "      <td>-0.015052</td>\n",
       "      <td>-0.172637</td>\n",
       "    </tr>\n",
       "    <tr>\n",
       "      <th>mean_CTA_len</th>\n",
       "      <td>0.052578</td>\n",
       "      <td>0.063012</td>\n",
       "      <td>0.175202</td>\n",
       "      <td>0.092141</td>\n",
       "      <td>0.034831</td>\n",
       "      <td>-0.007293</td>\n",
       "      <td>-0.031990</td>\n",
       "      <td>-0.021188</td>\n",
       "      <td>0.135744</td>\n",
       "      <td>0.055545</td>\n",
       "      <td>...</td>\n",
       "      <td>1.000000</td>\n",
       "      <td>-0.013959</td>\n",
       "      <td>-0.144117</td>\n",
       "      <td>0.020541</td>\n",
       "      <td>0.040482</td>\n",
       "      <td>0.042076</td>\n",
       "      <td>0.027486</td>\n",
       "      <td>0.096398</td>\n",
       "      <td>-0.002138</td>\n",
       "      <td>-0.031162</td>\n",
       "    </tr>\n",
       "    <tr>\n",
       "      <th>is_image</th>\n",
       "      <td>0.001895</td>\n",
       "      <td>-0.108547</td>\n",
       "      <td>-0.027524</td>\n",
       "      <td>-0.025449</td>\n",
       "      <td>-0.091945</td>\n",
       "      <td>0.014078</td>\n",
       "      <td>0.037867</td>\n",
       "      <td>0.002148</td>\n",
       "      <td>-0.033170</td>\n",
       "      <td>0.037105</td>\n",
       "      <td>...</td>\n",
       "      <td>-0.013959</td>\n",
       "      <td>1.000000</td>\n",
       "      <td>0.011064</td>\n",
       "      <td>-0.074969</td>\n",
       "      <td>0.024151</td>\n",
       "      <td>0.002829</td>\n",
       "      <td>-0.019785</td>\n",
       "      <td>0.001144</td>\n",
       "      <td>0.013247</td>\n",
       "      <td>-0.021937</td>\n",
       "    </tr>\n",
       "    <tr>\n",
       "      <th>is_personalised</th>\n",
       "      <td>0.101551</td>\n",
       "      <td>0.171549</td>\n",
       "      <td>-0.278186</td>\n",
       "      <td>-0.217294</td>\n",
       "      <td>0.163053</td>\n",
       "      <td>-0.057026</td>\n",
       "      <td>-0.056109</td>\n",
       "      <td>-0.070029</td>\n",
       "      <td>0.128305</td>\n",
       "      <td>0.058270</td>\n",
       "      <td>...</td>\n",
       "      <td>-0.144117</td>\n",
       "      <td>0.011064</td>\n",
       "      <td>1.000000</td>\n",
       "      <td>-0.004467</td>\n",
       "      <td>-0.045713</td>\n",
       "      <td>-0.046525</td>\n",
       "      <td>-0.018977</td>\n",
       "      <td>-0.084224</td>\n",
       "      <td>-0.020649</td>\n",
       "      <td>0.032922</td>\n",
       "    </tr>\n",
       "    <tr>\n",
       "      <th>is_quote</th>\n",
       "      <td>0.010502</td>\n",
       "      <td>0.023759</td>\n",
       "      <td>0.108972</td>\n",
       "      <td>0.190295</td>\n",
       "      <td>-0.089636</td>\n",
       "      <td>-0.033317</td>\n",
       "      <td>-0.037196</td>\n",
       "      <td>0.025542</td>\n",
       "      <td>-0.076352</td>\n",
       "      <td>-0.095862</td>\n",
       "      <td>...</td>\n",
       "      <td>0.020541</td>\n",
       "      <td>-0.074969</td>\n",
       "      <td>-0.004467</td>\n",
       "      <td>1.000000</td>\n",
       "      <td>-0.023033</td>\n",
       "      <td>-0.004352</td>\n",
       "      <td>-0.042987</td>\n",
       "      <td>-0.042472</td>\n",
       "      <td>-0.038332</td>\n",
       "      <td>-0.099212</td>\n",
       "    </tr>\n",
       "    <tr>\n",
       "      <th>is_emoticons</th>\n",
       "      <td>-0.037837</td>\n",
       "      <td>-0.087942</td>\n",
       "      <td>0.094095</td>\n",
       "      <td>-0.035802</td>\n",
       "      <td>-0.033626</td>\n",
       "      <td>0.002947</td>\n",
       "      <td>-0.000551</td>\n",
       "      <td>-0.077726</td>\n",
       "      <td>0.107489</td>\n",
       "      <td>0.016550</td>\n",
       "      <td>...</td>\n",
       "      <td>0.040482</td>\n",
       "      <td>0.024151</td>\n",
       "      <td>-0.045713</td>\n",
       "      <td>-0.023033</td>\n",
       "      <td>1.000000</td>\n",
       "      <td>0.017181</td>\n",
       "      <td>-0.027893</td>\n",
       "      <td>0.123484</td>\n",
       "      <td>0.046307</td>\n",
       "      <td>-0.095202</td>\n",
       "    </tr>\n",
       "    <tr>\n",
       "      <th>is_discount</th>\n",
       "      <td>-0.013733</td>\n",
       "      <td>-0.022446</td>\n",
       "      <td>0.118047</td>\n",
       "      <td>0.048484</td>\n",
       "      <td>-0.027081</td>\n",
       "      <td>-0.037799</td>\n",
       "      <td>-0.039907</td>\n",
       "      <td>-0.049692</td>\n",
       "      <td>0.156861</td>\n",
       "      <td>-0.004714</td>\n",
       "      <td>...</td>\n",
       "      <td>0.042076</td>\n",
       "      <td>0.002829</td>\n",
       "      <td>-0.046525</td>\n",
       "      <td>-0.004352</td>\n",
       "      <td>0.017181</td>\n",
       "      <td>1.000000</td>\n",
       "      <td>0.083868</td>\n",
       "      <td>0.193902</td>\n",
       "      <td>-0.017544</td>\n",
       "      <td>-0.086105</td>\n",
       "    </tr>\n",
       "    <tr>\n",
       "      <th>is_price</th>\n",
       "      <td>-0.037044</td>\n",
       "      <td>-0.047374</td>\n",
       "      <td>0.024450</td>\n",
       "      <td>-0.008255</td>\n",
       "      <td>0.013601</td>\n",
       "      <td>0.002162</td>\n",
       "      <td>-0.028749</td>\n",
       "      <td>-0.006296</td>\n",
       "      <td>0.063801</td>\n",
       "      <td>-0.025811</td>\n",
       "      <td>...</td>\n",
       "      <td>0.027486</td>\n",
       "      <td>-0.019785</td>\n",
       "      <td>-0.018977</td>\n",
       "      <td>-0.042987</td>\n",
       "      <td>-0.027893</td>\n",
       "      <td>0.083868</td>\n",
       "      <td>1.000000</td>\n",
       "      <td>0.046042</td>\n",
       "      <td>0.014541</td>\n",
       "      <td>-0.031621</td>\n",
       "    </tr>\n",
       "    <tr>\n",
       "      <th>is_urgency</th>\n",
       "      <td>-0.027777</td>\n",
       "      <td>-0.047699</td>\n",
       "      <td>0.107280</td>\n",
       "      <td>0.038375</td>\n",
       "      <td>-0.043130</td>\n",
       "      <td>0.026551</td>\n",
       "      <td>0.004184</td>\n",
       "      <td>-0.075383</td>\n",
       "      <td>0.185010</td>\n",
       "      <td>-0.109675</td>\n",
       "      <td>...</td>\n",
       "      <td>0.096398</td>\n",
       "      <td>0.001144</td>\n",
       "      <td>-0.084224</td>\n",
       "      <td>-0.042472</td>\n",
       "      <td>0.123484</td>\n",
       "      <td>0.193902</td>\n",
       "      <td>0.046042</td>\n",
       "      <td>1.000000</td>\n",
       "      <td>0.067440</td>\n",
       "      <td>-0.114284</td>\n",
       "    </tr>\n",
       "    <tr>\n",
       "      <th>target_audience</th>\n",
       "      <td>-0.060257</td>\n",
       "      <td>-0.095261</td>\n",
       "      <td>-0.025382</td>\n",
       "      <td>-0.093880</td>\n",
       "      <td>-0.083364</td>\n",
       "      <td>0.083415</td>\n",
       "      <td>0.049620</td>\n",
       "      <td>-0.028248</td>\n",
       "      <td>-0.025629</td>\n",
       "      <td>0.054795</td>\n",
       "      <td>...</td>\n",
       "      <td>-0.002138</td>\n",
       "      <td>0.013247</td>\n",
       "      <td>-0.020649</td>\n",
       "      <td>-0.038332</td>\n",
       "      <td>0.046307</td>\n",
       "      <td>-0.017544</td>\n",
       "      <td>0.014541</td>\n",
       "      <td>0.067440</td>\n",
       "      <td>1.000000</td>\n",
       "      <td>0.038713</td>\n",
       "    </tr>\n",
       "    <tr>\n",
       "      <th>click_rate</th>\n",
       "      <td>0.053315</td>\n",
       "      <td>-0.015154</td>\n",
       "      <td>-0.180143</td>\n",
       "      <td>-0.247866</td>\n",
       "      <td>0.178042</td>\n",
       "      <td>0.086372</td>\n",
       "      <td>0.114138</td>\n",
       "      <td>0.125569</td>\n",
       "      <td>-0.167756</td>\n",
       "      <td>0.121602</td>\n",
       "      <td>...</td>\n",
       "      <td>-0.031162</td>\n",
       "      <td>-0.021937</td>\n",
       "      <td>0.032922</td>\n",
       "      <td>-0.099212</td>\n",
       "      <td>-0.095202</td>\n",
       "      <td>-0.086105</td>\n",
       "      <td>-0.031621</td>\n",
       "      <td>-0.114284</td>\n",
       "      <td>0.038713</td>\n",
       "      <td>1.000000</td>\n",
       "    </tr>\n",
       "  </tbody>\n",
       "</table>\n",
       "<p>21 rows × 21 columns</p>\n",
       "</div>"
      ],
      "text/plain": [
       "                    campaign_id    sender  subject_len  body_len  \\\n",
       "campaign_id            1.000000  0.246563    -0.027127  0.117420   \n",
       "sender                 0.246563  1.000000    -0.098448  0.181636   \n",
       "subject_len           -0.027127 -0.098448     1.000000  0.413432   \n",
       "body_len               0.117420  0.181636     0.413432  1.000000   \n",
       "mean_paragraph_len    -0.012131  0.076462    -0.203044 -0.478160   \n",
       "day_of_week            0.026207 -0.056873    -0.048937 -0.076340   \n",
       "is_weekend             0.038012 -0.073785    -0.052177 -0.080141   \n",
       "times_of_day           0.024641  0.028406     0.015731  0.095318   \n",
       "category               0.142338  0.179909     0.022331  0.028715   \n",
       "product                0.136864  0.071305    -0.020213 -0.034605   \n",
       "no_of_CTA              0.067709  0.119623     0.399823  0.557193   \n",
       "mean_CTA_len           0.052578  0.063012     0.175202  0.092141   \n",
       "is_image               0.001895 -0.108547    -0.027524 -0.025449   \n",
       "is_personalised        0.101551  0.171549    -0.278186 -0.217294   \n",
       "is_quote               0.010502  0.023759     0.108972  0.190295   \n",
       "is_emoticons          -0.037837 -0.087942     0.094095 -0.035802   \n",
       "is_discount           -0.013733 -0.022446     0.118047  0.048484   \n",
       "is_price              -0.037044 -0.047374     0.024450 -0.008255   \n",
       "is_urgency            -0.027777 -0.047699     0.107280  0.038375   \n",
       "target_audience       -0.060257 -0.095261    -0.025382 -0.093880   \n",
       "click_rate             0.053315 -0.015154    -0.180143 -0.247866   \n",
       "\n",
       "                    mean_paragraph_len  day_of_week  is_weekend  times_of_day  \\\n",
       "campaign_id                  -0.012131     0.026207    0.038012      0.024641   \n",
       "sender                        0.076462    -0.056873   -0.073785      0.028406   \n",
       "subject_len                  -0.203044    -0.048937   -0.052177      0.015731   \n",
       "body_len                     -0.478160    -0.076340   -0.080141      0.095318   \n",
       "mean_paragraph_len            1.000000    -0.020135   -0.013456     -0.043922   \n",
       "day_of_week                  -0.020135     1.000000    0.722991      0.167536   \n",
       "is_weekend                   -0.013456     0.722991    1.000000      0.205662   \n",
       "times_of_day                 -0.043922     0.167536    0.205662      1.000000   \n",
       "category                      0.051148    -0.056488   -0.059727     -0.199480   \n",
       "product                      -0.062919    -0.000002   -0.015602      0.072565   \n",
       "no_of_CTA                    -0.171655    -0.049558   -0.034086      0.080723   \n",
       "mean_CTA_len                  0.034831    -0.007293   -0.031990     -0.021188   \n",
       "is_image                     -0.091945     0.014078    0.037867      0.002148   \n",
       "is_personalised               0.163053    -0.057026   -0.056109     -0.070029   \n",
       "is_quote                     -0.089636    -0.033317   -0.037196      0.025542   \n",
       "is_emoticons                 -0.033626     0.002947   -0.000551     -0.077726   \n",
       "is_discount                  -0.027081    -0.037799   -0.039907     -0.049692   \n",
       "is_price                      0.013601     0.002162   -0.028749     -0.006296   \n",
       "is_urgency                   -0.043130     0.026551    0.004184     -0.075383   \n",
       "target_audience              -0.083364     0.083415    0.049620     -0.028248   \n",
       "click_rate                    0.178042     0.086372    0.114138      0.125569   \n",
       "\n",
       "                    category   product  ...  mean_CTA_len  is_image  \\\n",
       "campaign_id         0.142338  0.136864  ...      0.052578  0.001895   \n",
       "sender              0.179909  0.071305  ...      0.063012 -0.108547   \n",
       "subject_len         0.022331 -0.020213  ...      0.175202 -0.027524   \n",
       "body_len            0.028715 -0.034605  ...      0.092141 -0.025449   \n",
       "mean_paragraph_len  0.051148 -0.062919  ...      0.034831 -0.091945   \n",
       "day_of_week        -0.056488 -0.000002  ...     -0.007293  0.014078   \n",
       "is_weekend         -0.059727 -0.015602  ...     -0.031990  0.037867   \n",
       "times_of_day       -0.199480  0.072565  ...     -0.021188  0.002148   \n",
       "category            1.000000  0.019923  ...      0.135744 -0.033170   \n",
       "product             0.019923  1.000000  ...      0.055545  0.037105   \n",
       "no_of_CTA          -0.030933  0.027527  ...      0.178183 -0.007714   \n",
       "mean_CTA_len        0.135744  0.055545  ...      1.000000 -0.013959   \n",
       "is_image           -0.033170  0.037105  ...     -0.013959  1.000000   \n",
       "is_personalised     0.128305  0.058270  ...     -0.144117  0.011064   \n",
       "is_quote           -0.076352 -0.095862  ...      0.020541 -0.074969   \n",
       "is_emoticons        0.107489  0.016550  ...      0.040482  0.024151   \n",
       "is_discount         0.156861 -0.004714  ...      0.042076  0.002829   \n",
       "is_price            0.063801 -0.025811  ...      0.027486 -0.019785   \n",
       "is_urgency          0.185010 -0.109675  ...      0.096398  0.001144   \n",
       "target_audience    -0.025629  0.054795  ...     -0.002138  0.013247   \n",
       "click_rate         -0.167756  0.121602  ...     -0.031162 -0.021937   \n",
       "\n",
       "                    is_personalised  is_quote  is_emoticons  is_discount  \\\n",
       "campaign_id                0.101551  0.010502     -0.037837    -0.013733   \n",
       "sender                     0.171549  0.023759     -0.087942    -0.022446   \n",
       "subject_len               -0.278186  0.108972      0.094095     0.118047   \n",
       "body_len                  -0.217294  0.190295     -0.035802     0.048484   \n",
       "mean_paragraph_len         0.163053 -0.089636     -0.033626    -0.027081   \n",
       "day_of_week               -0.057026 -0.033317      0.002947    -0.037799   \n",
       "is_weekend                -0.056109 -0.037196     -0.000551    -0.039907   \n",
       "times_of_day              -0.070029  0.025542     -0.077726    -0.049692   \n",
       "category                   0.128305 -0.076352      0.107489     0.156861   \n",
       "product                    0.058270 -0.095862      0.016550    -0.004714   \n",
       "no_of_CTA                 -0.147190  0.083542     -0.030667     0.045009   \n",
       "mean_CTA_len              -0.144117  0.020541      0.040482     0.042076   \n",
       "is_image                   0.011064 -0.074969      0.024151     0.002829   \n",
       "is_personalised            1.000000 -0.004467     -0.045713    -0.046525   \n",
       "is_quote                  -0.004467  1.000000     -0.023033    -0.004352   \n",
       "is_emoticons              -0.045713 -0.023033      1.000000     0.017181   \n",
       "is_discount               -0.046525 -0.004352      0.017181     1.000000   \n",
       "is_price                  -0.018977 -0.042987     -0.027893     0.083868   \n",
       "is_urgency                -0.084224 -0.042472      0.123484     0.193902   \n",
       "target_audience           -0.020649 -0.038332      0.046307    -0.017544   \n",
       "click_rate                 0.032922 -0.099212     -0.095202    -0.086105   \n",
       "\n",
       "                    is_price  is_urgency  target_audience  click_rate  \n",
       "campaign_id        -0.037044   -0.027777        -0.060257    0.053315  \n",
       "sender             -0.047374   -0.047699        -0.095261   -0.015154  \n",
       "subject_len         0.024450    0.107280        -0.025382   -0.180143  \n",
       "body_len           -0.008255    0.038375        -0.093880   -0.247866  \n",
       "mean_paragraph_len  0.013601   -0.043130        -0.083364    0.178042  \n",
       "day_of_week         0.002162    0.026551         0.083415    0.086372  \n",
       "is_weekend         -0.028749    0.004184         0.049620    0.114138  \n",
       "times_of_day       -0.006296   -0.075383        -0.028248    0.125569  \n",
       "category            0.063801    0.185010        -0.025629   -0.167756  \n",
       "product            -0.025811   -0.109675         0.054795    0.121602  \n",
       "no_of_CTA          -0.016778   -0.007445        -0.015052   -0.172637  \n",
       "mean_CTA_len        0.027486    0.096398        -0.002138   -0.031162  \n",
       "is_image           -0.019785    0.001144         0.013247   -0.021937  \n",
       "is_personalised    -0.018977   -0.084224        -0.020649    0.032922  \n",
       "is_quote           -0.042987   -0.042472        -0.038332   -0.099212  \n",
       "is_emoticons       -0.027893    0.123484         0.046307   -0.095202  \n",
       "is_discount         0.083868    0.193902        -0.017544   -0.086105  \n",
       "is_price            1.000000    0.046042         0.014541   -0.031621  \n",
       "is_urgency          0.046042    1.000000         0.067440   -0.114284  \n",
       "target_audience     0.014541    0.067440         1.000000    0.038713  \n",
       "click_rate         -0.031621   -0.114284         0.038713    1.000000  \n",
       "\n",
       "[21 rows x 21 columns]"
      ]
     },
     "execution_count": 77,
     "metadata": {},
     "output_type": "execute_result"
    }
   ],
   "source": [
    "train_data.corr()"
   ]
  },
  {
   "cell_type": "code",
   "execution_count": 78,
   "id": "edb13dcc",
   "metadata": {},
   "outputs": [
    {
     "data": {
      "text/plain": [
       "campaign_id           False\n",
       "sender                False\n",
       "subject_len           False\n",
       "body_len              False\n",
       "mean_paragraph_len    False\n",
       "day_of_week           False\n",
       "is_weekend            False\n",
       "times_of_day          False\n",
       "category              False\n",
       "product               False\n",
       "no_of_CTA             False\n",
       "mean_CTA_len          False\n",
       "is_image              False\n",
       "is_personalised       False\n",
       "is_quote              False\n",
       "is_emoticons          False\n",
       "is_discount           False\n",
       "is_price              False\n",
       "is_urgency            False\n",
       "target_audience       False\n",
       "click_rate             True\n",
       "dtype: bool"
      ]
     },
     "execution_count": 78,
     "metadata": {},
     "output_type": "execute_result"
    }
   ],
   "source": [
    "train_data.isna().any()"
   ]
  },
  {
   "cell_type": "code",
   "execution_count": 79,
   "id": "7f2afa2c",
   "metadata": {},
   "outputs": [
    {
     "data": {
      "text/plain": [
       "campaign_id           False\n",
       "sender                False\n",
       "subject_len           False\n",
       "body_len              False\n",
       "mean_paragraph_len    False\n",
       "day_of_week           False\n",
       "is_weekend            False\n",
       "times_of_day          False\n",
       "category              False\n",
       "product               False\n",
       "no_of_CTA             False\n",
       "mean_CTA_len          False\n",
       "is_image              False\n",
       "is_personalised       False\n",
       "is_quote              False\n",
       "is_emoticons          False\n",
       "is_discount           False\n",
       "is_price              False\n",
       "is_urgency            False\n",
       "target_audience       False\n",
       "click_rate             True\n",
       "dtype: bool"
      ]
     },
     "execution_count": 79,
     "metadata": {},
     "output_type": "execute_result"
    }
   ],
   "source": [
    "train_data.isnull().any()"
   ]
  },
  {
   "cell_type": "code",
   "execution_count": 80,
   "id": "c5e600a6",
   "metadata": {},
   "outputs": [],
   "source": [
    "train_data.fillna(t_data['click_rate'].mean(),inplace=True)"
   ]
  },
  {
   "cell_type": "code",
   "execution_count": 81,
   "id": "d6d7b26f",
   "metadata": {},
   "outputs": [],
   "source": [
    "# so there no missing values in above data set, now find correlation.."
   ]
  },
  {
   "cell_type": "code",
   "execution_count": 82,
   "id": "899639e7",
   "metadata": {},
   "outputs": [
    {
     "data": {
      "text/plain": [
       "<AxesSubplot:>"
      ]
     },
     "execution_count": 82,
     "metadata": {},
     "output_type": "execute_result"
    },
    {
     "data": {
      "image/png": "[encoded data removed]",
      "text/plain": [
       "<Figure size 432x288 with 2 Axes>"
      ]
     },
     "metadata": {
      "needs_background": "light"
     },
     "output_type": "display_data"
    }
   ],
   "source": [
    "sns.heatmap(train_data.corr())"
   ]
  },
  {
   "cell_type": "code",
   "execution_count": 83,
   "id": "7746daf6",
   "metadata": {},
   "outputs": [],
   "source": [
    "from sklearn.model_selection import train_test_split"
   ]
  },
  {
   "cell_type": "code",
   "execution_count": 84,
   "id": "0a838500",
   "metadata": {},
   "outputs": [],
   "source": [
    "x=train_data.drop(['click_rate','campaign_id'],axis=1)\n",
    "y=train_data['click_rate']"
   ]
  },
  {
   "cell_type": "code",
   "execution_count": 85,
   "id": "880019eb",
   "metadata": {},
   "outputs": [],
   "source": [
    "x_train,x_test,y_train,y_test=train_test_split(x,y,test_size=0.3)"
   ]
  },
  {
   "cell_type": "code",
   "execution_count": 86,
   "id": "12010288",
   "metadata": {},
   "outputs": [],
   "source": [
    "Lr=LinearRegression()"
   ]
  },
  {
   "cell_type": "code",
   "execution_count": 87,
   "id": "da5307b2",
   "metadata": {},
   "outputs": [
    {
     "data": {
      "text/plain": [
       "LinearRegression()"
      ]
     },
     "execution_count": 87,
     "metadata": {},
     "output_type": "execute_result"
    }
   ],
   "source": [
    "Lr.fit(x_train,y_train)"
   ]
  },
  {
   "cell_type": "code",
   "execution_count": 88,
   "id": "1cc144ca",
   "metadata": {},
   "outputs": [
    {
     "data": {
      "text/plain": [
       "0.10323806904166799"
      ]
     },
     "execution_count": 88,
     "metadata": {},
     "output_type": "execute_result"
    }
   ],
   "source": [
    "Lr.score(x_train,y_train)"
   ]
  },
  {
   "cell_type": "code",
   "execution_count": 89,
   "id": "00302c2d",
   "metadata": {},
   "outputs": [
    {
     "data": {
      "text/plain": [
       "0.11278081801199036"
      ]
     },
     "execution_count": 89,
     "metadata": {},
     "output_type": "execute_result"
    }
   ],
   "source": [
    "Lr.score(x_test,y_test)"
   ]
  },
  {
   "cell_type": "code",
   "execution_count": 90,
   "id": "ea60c1e7",
   "metadata": {},
   "outputs": [],
   "source": [
    "y_pred=Lr.predict(x_test)"
   ]
  },
  {
   "cell_type": "code",
   "execution_count": 91,
   "id": "05a1e77c",
   "metadata": {},
   "outputs": [
    {
     "data": {
      "text/plain": [
       "(795,)"
      ]
     },
     "execution_count": 91,
     "metadata": {},
     "output_type": "execute_result"
    }
   ],
   "source": [
    "y_pred.shape"
   ]
  },
  {
   "cell_type": "code",
   "execution_count": 92,
   "id": "d5e08af0",
   "metadata": {},
   "outputs": [
    {
     "data": {
      "text/plain": [
       "array([ 0.03153105,  0.00842779,  0.07831302,  0.04742011,  0.05077832,\n",
       "        0.05895254,  0.03030766,  0.07606259,  0.04048207,  0.06860893,\n",
       "        0.06999248,  0.05139594,  0.05074438,  0.0466593 ,  0.04193426,\n",
       "        0.01667005,  0.06107779,  0.02610148,  0.05312134,  0.05494449,\n",
       "        0.05115702,  0.01015577,  0.03380634,  0.04003371,  0.05577229,\n",
       "        0.04232693,  0.03815642,  0.04184636,  0.01061163,  0.05469322,\n",
       "        0.01206143,  0.00914782,  0.04686404,  0.02610683,  0.02071882,\n",
       "        0.02266333,  0.01254985,  0.01752978,  0.05261076,  0.01622137,\n",
       "        0.06697687,  0.04665039,  0.0411796 ,  0.02645915,  0.04762475,\n",
       "        0.04983475,  0.06355101,  0.03692852,  0.00014197,  0.01378292,\n",
       "        0.07236957,  0.02674702,  0.03107213,  0.05671206, -0.01412037,\n",
       "        0.00368884,  0.11798393,  0.02945519,  0.07323949,  0.02184675,\n",
       "        0.02657951,  0.0173894 ,  0.04295733,  0.04666574,  0.02364792,\n",
       "       -0.00373527,  0.04143255,  0.04239615,  0.0080863 ,  0.02840564,\n",
       "        0.04131699,  0.05379045,  0.05935666,  0.06010421,  0.01135077,\n",
       "        0.07407745,  0.02583002,  0.04665773, -0.00923411,  0.04045426,\n",
       "        0.0740412 ,  0.06747295,  0.0687309 ,  0.03040569,  0.01586506,\n",
       "        0.0224821 ,  0.04646992,  0.02228146,  0.05691898,  0.06113121,\n",
       "        0.0528958 ,  0.03701626,  0.03369372,  0.05889083,  0.03510824,\n",
       "        0.04728838,  0.01118128,  0.05966987,  0.05239587,  0.03335206,\n",
       "        0.04850498,  0.04302414,  0.09052097,  0.05690966,  0.03852461,\n",
       "        0.03567003,  0.0169855 ,  0.05512276,  0.01385737,  0.04193631,\n",
       "        0.02745218,  0.03083868,  0.05874328,  0.04024977,  0.06426683,\n",
       "        0.03497677,  0.07029937,  0.07034395,  0.01577214,  0.06782654,\n",
       "        0.03138056,  0.0468187 ,  0.01764   ,  0.04995088,  0.07455455,\n",
       "        0.04209306,  0.01358356,  0.01623831,  0.06810898,  0.04144019,\n",
       "        0.03707168,  0.05784545,  0.05216287,  0.032093  ,  0.04877902,\n",
       "        0.06735259,  0.03184178,  0.06131089,  0.05389563,  0.05375117,\n",
       "        0.00625543,  0.06440904,  0.04939755,  0.03797032,  0.03185153,\n",
       "        0.03685384, -0.00167331,  0.04881812,  0.01624441,  0.03842951,\n",
       "        0.04113371,  0.03348606,  0.01440733,  0.07143993,  0.04248062,\n",
       "        0.01636113,  0.02179683,  0.07108454,  0.05184989,  0.05989078,\n",
       "        0.03273713,  0.03416077,  0.04150448,  0.0700919 ,  0.05123184,\n",
       "        0.01911728,  0.0552422 ,  0.03707833,  0.07119069,  0.04036688,\n",
       "        0.0388319 ,  0.02430639,  0.03438378,  0.05482277,  0.03954391,\n",
       "        0.06021598,  0.03434132,  0.03935443,  0.01297513,  0.08000441,\n",
       "        0.05360211,  0.04944552,  0.02101634,  0.07076196,  0.02449072,\n",
       "        0.01396163,  0.0141434 ,  0.01927028,  0.04879297,  0.03223197,\n",
       "        0.04049252,  0.0317599 ,  0.02680165,  0.05086047,  0.03085313,\n",
       "        0.04499343,  0.02122924,  0.00483772,  0.0510013 ,  0.03896378,\n",
       "        0.01775592,  0.04356988,  0.0140281 ,  0.04456578,  0.00638207,\n",
       "        0.058445  ,  0.02550685,  0.00234998,  0.04980441,  0.02584181,\n",
       "        0.03589652,  0.05117146,  0.06726378,  0.0330817 ,  0.01287013,\n",
       "        0.05138796,  0.05547119,  0.06742202,  0.06526511,  0.02540236,\n",
       "        0.03251642,  0.07862823,  0.02783196,  0.04151079,  0.03199643,\n",
       "        0.06923027,  0.04767086,  0.06057938,  0.06541639,  0.01550618,\n",
       "        0.0234564 ,  0.01207807,  0.06146161,  0.03797279,  0.02361702,\n",
       "        0.03993247,  0.00609892,  0.03745303,  0.02095726,  0.0417665 ,\n",
       "        0.04664306,  0.03537663,  0.02130616,  0.03827803,  0.04773176,\n",
       "        0.04566242,  0.01376099,  0.08267053,  0.01928097,  0.02572291,\n",
       "        0.06954461,  0.01055646,  0.04264659,  0.03820492,  0.06979879,\n",
       "        0.02037705,  0.02563559,  0.05439781,  0.0490312 ,  0.04794928,\n",
       "        0.03067846,  0.02993068,  0.07425841,  0.01390086,  0.06082972,\n",
       "        0.04776405,  0.04426236,  0.0233878 ,  0.09191533,  0.05756935,\n",
       "       -0.01214567,  0.05575725,  0.04133318,  0.02321567, -0.00555464,\n",
       "        0.04395346,  0.0084157 ,  0.02938621,  0.05514469,  0.02017118,\n",
       "        0.05044038,  0.04939096,  0.07120747,  0.02842754,  0.05991991,\n",
       "        0.0149481 ,  0.04894357,  0.00678622,  0.0407032 ,  0.06324277,\n",
       "        0.01636395,  0.03572799,  0.01520136,  0.00358131,  0.07707037,\n",
       "        0.04017021,  0.04222033,  0.03326811,  0.03704958,  0.05052935,\n",
       "        0.00243842,  0.0481414 ,  0.01595695,  0.02474753,  0.00506682,\n",
       "        0.02952535,  0.06017919,  0.07962317,  0.04172748, -0.01119444,\n",
       "        0.03232223,  0.0352602 ,  0.03155721,  0.03763718,  0.03093451,\n",
       "        0.06382014,  0.07721832,  0.05687205,  0.04800239,  0.02164369,\n",
       "        0.06511199,  0.02772431,  0.0724307 ,  0.04557879,  0.05009202,\n",
       "        0.01380065,  0.08276647,  0.06153775,  0.06513753,  0.0649655 ,\n",
       "        0.04953532,  0.030366  ,  0.03547837,  0.02885702,  0.10066177,\n",
       "        0.07152674,  0.05518014,  0.04215843,  0.05596408,  0.06500752,\n",
       "        0.02865436,  0.0392872 ,  0.03636267,  0.0083141 ,  0.03119119,\n",
       "        0.05438897,  0.06702603,  0.04360789,  0.02784683,  0.01529657,\n",
       "        0.01135167,  0.06788637,  0.02507066,  0.04127775,  0.05821999,\n",
       "        0.02196758,  0.06171786,  0.05402338,  0.03948147,  0.02312773,\n",
       "        0.08617696,  0.04827369,  0.04117045,  0.02269743,  0.04515598,\n",
       "        0.03303339,  0.00688481,  0.05304402,  0.03198806,  0.05200738,\n",
       "        0.03300297,  0.02802839,  0.04076897,  0.03899373,  0.0419722 ,\n",
       "       -0.00100139,  0.08336405,  0.04106563,  0.02928123,  0.03421265,\n",
       "        0.02371643,  0.04586691,  0.02362222,  0.02047302,  0.05744053,\n",
       "        0.08367416,  0.02239839,  0.02285974,  0.02030779,  0.12519447,\n",
       "        0.07389714,  0.02248527,  0.05829726,  0.04138216,  0.02316922,\n",
       "        0.05800481, -0.02489424,  0.04718183,  0.03277096,  0.02185714,\n",
       "        0.04199901,  0.03573251,  0.04204459,  0.0423215 ,  0.03872041,\n",
       "        0.02644623,  0.02911202,  0.04320789,  0.08245989,  0.07403939,\n",
       "        0.04174927,  0.03665874,  0.04796462,  0.00507607,  0.0565996 ,\n",
       "        0.01866619,  0.03362779,  0.05154481,  0.0323384 ,  0.0301278 ,\n",
       "        0.05574617,  0.04070606,  0.03367351,  0.05799723,  0.07129775,\n",
       "        0.02429178,  0.02127645,  0.0412198 ,  0.07873923,  0.03025539,\n",
       "        0.02721079,  0.05184823,  0.0256226 ,  0.04733642,  0.06388635,\n",
       "        0.06054684,  0.06039026,  0.09902099,  0.04512124,  0.05019947,\n",
       "        0.0138805 ,  0.03200374,  0.02908613,  0.02061062,  0.05996339,\n",
       "        0.04697747, -0.00262312,  0.05152155, -0.00290289,  0.0199074 ,\n",
       "        0.05111201,  0.00922134,  0.08785064,  0.0378224 ,  0.05236246,\n",
       "        0.04902713,  0.05335272,  0.0085458 ,  0.04114495,  0.03567598,\n",
       "        0.04286387,  0.02259812,  0.03372334,  0.0348249 ,  0.05272433,\n",
       "        0.00964281, -0.00043138,  0.03923625,  0.05082832,  0.04499928,\n",
       "        0.03181972,  0.01736249,  0.02398626,  0.0756604 ,  0.05209253,\n",
       "        0.03262121,  0.02813419,  0.03822387,  0.03584922,  0.07197325,\n",
       "        0.02192417,  0.04990344,  0.02776994,  0.01338235,  0.03344384,\n",
       "        0.04322311,  0.0695513 ,  0.06771189,  0.03668241,  0.0072141 ,\n",
       "        0.04662572,  0.03210136,  0.01816094,  0.06665754,  0.03723531,\n",
       "        0.0096374 ,  0.02083899,  0.03749531,  0.05264569,  0.02631652,\n",
       "        0.039874  ,  0.05197517,  0.08659462,  0.00972196,  0.052628  ,\n",
       "        0.05533414,  0.04897567, -0.00311871,  0.06093233,  0.06132316,\n",
       "        0.04739643,  0.0174761 ,  0.02320771,  0.00245552,  0.01669762,\n",
       "        0.01424884,  0.07201564,  0.03312423,  0.074978  ,  0.0585623 ,\n",
       "        0.02370133,  0.03685134,  0.06847415,  0.06817641,  0.06221629,\n",
       "        0.02162902,  0.0645828 ,  0.03093124,  0.04271985,  0.01160867,\n",
       "        0.08106206,  0.04641189,  0.03357662,  0.0659278 ,  0.0250275 ,\n",
       "        0.03560576,  0.05166713,  0.05761234,  0.0200152 ,  0.04437934,\n",
       "        0.07251375,  0.00648079,  0.05419974,  0.02304959,  0.04789278,\n",
       "       -0.0011143 ,  0.03327094,  0.09583076,  0.04115671,  0.02854603,\n",
       "        0.03171923,  0.03345688,  0.02554527,  0.02615044,  0.02275942,\n",
       "        0.06880285, -0.00657747,  0.00900502,  0.06952902,  0.03320741,\n",
       "        0.05961294,  0.05526971,  0.01066846,  0.04418879,  0.06280609,\n",
       "        0.0201644 ,  0.01048511,  0.02835663,  0.03588581,  0.05644298,\n",
       "       -0.02109598,  0.03796843,  0.05810574,  0.01095304,  0.0548139 ,\n",
       "        0.0668848 ,  0.03365633,  0.03458935,  0.05941059,  0.02658435,\n",
       "        0.04869342,  0.05335427,  0.05458292,  0.06309574,  0.04560518,\n",
       "        0.04811696,  0.02137999, -0.00367246, -0.00888772,  0.03651185,\n",
       "       -0.01482848,  0.03955224,  0.06748753,  0.04280832,  0.0253928 ,\n",
       "        0.05709579,  0.01832423,  0.03766525,  0.0215394 ,  0.06900617,\n",
       "        0.03208135,  0.01534784,  0.06346882,  0.0477553 ,  0.05677222,\n",
       "        0.03476571,  0.00553973,  0.02309062,  0.03877561,  0.04683001,\n",
       "        0.06462071,  0.02460053,  0.03607155,  0.05504914,  0.04148097,\n",
       "        0.04687947,  0.02160461,  0.05689297,  0.00910736,  0.02526597,\n",
       "        0.0556462 ,  0.05076602,  0.07135415,  0.04538136,  0.08302181,\n",
       "        0.04221319,  0.02956131,  0.05632273,  0.00763094,  0.06177381,\n",
       "        0.01693014,  0.07792607,  0.0651213 ,  0.03819906,  0.03866519,\n",
       "        0.05897999,  0.02763377,  0.05302727,  0.02215534,  0.03356065,\n",
       "        0.02127457,  0.0238672 ,  0.02426035,  0.06452993,  0.05012929,\n",
       "        0.03321492,  0.03633812,  0.06120737,  0.04265321,  0.04016153,\n",
       "        0.03668618,  0.05362586,  0.05791349,  0.03558421,  0.04682556,\n",
       "        0.07475586,  0.08723374,  0.04001559,  0.05821203,  0.06031761,\n",
       "        0.05376347,  0.03697997,  0.03846911,  0.02965447,  0.04164122,\n",
       "        0.04217732,  0.0504688 ,  0.02939005,  0.03501027,  0.04323709,\n",
       "        0.09952829,  0.02681213,  0.03814155,  0.03654067,  0.0271154 ,\n",
       "        0.03745703,  0.03937548, -0.00358004,  0.03341007,  0.05353364,\n",
       "        0.07533319,  0.0523057 ,  0.02997011,  0.06954015,  0.02076419,\n",
       "        0.03712036,  0.00185579,  0.03614015,  0.06865392,  0.0454285 ,\n",
       "        0.02198148,  0.06033945,  0.06632621,  0.03263116,  0.06496199,\n",
       "        0.02584291,  0.0329949 ,  0.01991695,  0.06252396,  0.0466011 ,\n",
       "        0.04628414,  0.05874912,  0.07386308,  0.04175862,  0.04445677,\n",
       "        0.04808178,  0.08803415,  0.04981684,  0.0145504 ,  0.03535109,\n",
       "        0.03016867,  0.02492803,  0.03024448,  0.01264083,  0.07617933,\n",
       "        0.05317485,  0.06536581, -0.0260257 ,  0.03667819,  0.00502395,\n",
       "        0.06193896,  0.01661315,  0.06132204,  0.04147623,  0.0776107 ,\n",
       "        0.05393693,  0.02473846,  0.0808263 ,  0.02855441,  0.02503112,\n",
       "        0.01893066,  0.08447076,  0.04214537,  0.02741966,  0.05415386,\n",
       "        0.04561314,  0.05734312,  0.05214595,  0.06798729,  0.02846559,\n",
       "        0.05191675,  0.02919232,  0.01811702,  0.02374434,  0.06151421,\n",
       "        0.0451363 ,  0.03759294,  0.0470926 ,  0.03427566,  0.05537962,\n",
       "        0.02843002,  0.04233824,  0.04604224, -0.00335948,  0.04281369,\n",
       "        0.00269879,  0.02839318,  0.02147061,  0.05078363,  0.04558678,\n",
       "        0.03205134,  0.03962093, -0.01100695,  0.05727753,  0.0464171 ,\n",
       "        0.06722736,  0.06198067,  0.06174718,  0.03454501,  0.07187589,\n",
       "        0.07354732,  0.04541151,  0.06667832,  0.06113741,  0.05531782,\n",
       "        0.04458887,  0.01134993,  0.04871555,  0.04687498,  0.04323608,\n",
       "        0.11675814,  0.02963596,  0.05996963,  0.04818923,  0.03386229,\n",
       "        0.05179855,  0.01331584,  0.07247182,  0.05893849,  0.01122864,\n",
       "        0.0699902 ,  0.06353218,  0.01229848,  0.01082175,  0.03116071])"
      ]
     },
     "execution_count": 92,
     "metadata": {},
     "output_type": "execute_result"
    }
   ],
   "source": [
    "y_pred"
   ]
  },
  {
   "cell_type": "code",
   "execution_count": 93,
   "id": "4c269e80",
   "metadata": {},
   "outputs": [],
   "source": [
    "LE=LabelEncoder()"
   ]
  },
  {
   "cell_type": "code",
   "execution_count": 94,
   "id": "a67eae6a",
   "metadata": {},
   "outputs": [],
   "source": [
    "t_data['times_of_day']=LE.fit_transform(t_data['times_of_day'])"
   ]
  },
  {
   "cell_type": "code",
   "execution_count": 95,
   "id": "2aeee855",
   "metadata": {},
   "outputs": [
    {
     "data": {
      "text/html": [
       "<div>\n",
       "<style scoped>\n",
       "    .dataframe tbody tr th:only-of-type {\n",
       "        vertical-align: middle;\n",
       "    }\n",
       "\n",
       "    .dataframe tbody tr th {\n",
       "        vertical-align: top;\n",
       "    }\n",
       "\n",
       "    .dataframe thead th {\n",
       "        text-align: right;\n",
       "    }\n",
       "</style>\n",
       "<table border=\"1\" class=\"dataframe\">\n",
       "  <thead>\n",
       "    <tr style=\"text-align: right;\">\n",
       "      <th></th>\n",
       "      <th>campaign_id</th>\n",
       "      <th>sender</th>\n",
       "      <th>subject_len</th>\n",
       "      <th>body_len</th>\n",
       "      <th>mean_paragraph_len</th>\n",
       "      <th>day_of_week</th>\n",
       "      <th>is_weekend</th>\n",
       "      <th>times_of_day</th>\n",
       "      <th>category</th>\n",
       "      <th>product</th>\n",
       "      <th>...</th>\n",
       "      <th>mean_CTA_len</th>\n",
       "      <th>is_image</th>\n",
       "      <th>is_personalised</th>\n",
       "      <th>is_quote</th>\n",
       "      <th>is_emoticons</th>\n",
       "      <th>is_discount</th>\n",
       "      <th>is_price</th>\n",
       "      <th>is_urgency</th>\n",
       "      <th>target_audience</th>\n",
       "      <th>click_rate</th>\n",
       "    </tr>\n",
       "  </thead>\n",
       "  <tbody>\n",
       "    <tr>\n",
       "      <th>0</th>\n",
       "      <td>1</td>\n",
       "      <td>3</td>\n",
       "      <td>76</td>\n",
       "      <td>10439</td>\n",
       "      <td>39</td>\n",
       "      <td>5</td>\n",
       "      <td>1</td>\n",
       "      <td>2</td>\n",
       "      <td>6</td>\n",
       "      <td>26</td>\n",
       "      <td>...</td>\n",
       "      <td>29</td>\n",
       "      <td>0</td>\n",
       "      <td>0</td>\n",
       "      <td>0</td>\n",
       "      <td>0</td>\n",
       "      <td>0</td>\n",
       "      <td>0</td>\n",
       "      <td>0</td>\n",
       "      <td>14</td>\n",
       "      <td>0.103079</td>\n",
       "    </tr>\n",
       "    <tr>\n",
       "      <th>1</th>\n",
       "      <td>2</td>\n",
       "      <td>3</td>\n",
       "      <td>54</td>\n",
       "      <td>2570</td>\n",
       "      <td>256</td>\n",
       "      <td>5</td>\n",
       "      <td>1</td>\n",
       "      <td>1</td>\n",
       "      <td>2</td>\n",
       "      <td>11</td>\n",
       "      <td>...</td>\n",
       "      <td>22</td>\n",
       "      <td>0</td>\n",
       "      <td>0</td>\n",
       "      <td>0</td>\n",
       "      <td>0</td>\n",
       "      <td>0</td>\n",
       "      <td>0</td>\n",
       "      <td>0</td>\n",
       "      <td>10</td>\n",
       "      <td>0.700000</td>\n",
       "    </tr>\n",
       "    <tr>\n",
       "      <th>2</th>\n",
       "      <td>3</td>\n",
       "      <td>3</td>\n",
       "      <td>59</td>\n",
       "      <td>12801</td>\n",
       "      <td>16</td>\n",
       "      <td>5</td>\n",
       "      <td>1</td>\n",
       "      <td>2</td>\n",
       "      <td>2</td>\n",
       "      <td>11</td>\n",
       "      <td>...</td>\n",
       "      <td>23</td>\n",
       "      <td>1</td>\n",
       "      <td>0</td>\n",
       "      <td>1</td>\n",
       "      <td>0</td>\n",
       "      <td>0</td>\n",
       "      <td>0</td>\n",
       "      <td>0</td>\n",
       "      <td>16</td>\n",
       "      <td>0.002769</td>\n",
       "    </tr>\n",
       "    <tr>\n",
       "      <th>3</th>\n",
       "      <td>4</td>\n",
       "      <td>3</td>\n",
       "      <td>74</td>\n",
       "      <td>11037</td>\n",
       "      <td>30</td>\n",
       "      <td>4</td>\n",
       "      <td>0</td>\n",
       "      <td>0</td>\n",
       "      <td>15</td>\n",
       "      <td>9</td>\n",
       "      <td>...</td>\n",
       "      <td>24</td>\n",
       "      <td>0</td>\n",
       "      <td>0</td>\n",
       "      <td>0</td>\n",
       "      <td>0</td>\n",
       "      <td>0</td>\n",
       "      <td>0</td>\n",
       "      <td>0</td>\n",
       "      <td>10</td>\n",
       "      <td>0.010868</td>\n",
       "    </tr>\n",
       "    <tr>\n",
       "      <th>4</th>\n",
       "      <td>5</td>\n",
       "      <td>3</td>\n",
       "      <td>80</td>\n",
       "      <td>10011</td>\n",
       "      <td>27</td>\n",
       "      <td>5</td>\n",
       "      <td>1</td>\n",
       "      <td>2</td>\n",
       "      <td>6</td>\n",
       "      <td>26</td>\n",
       "      <td>...</td>\n",
       "      <td>31</td>\n",
       "      <td>0</td>\n",
       "      <td>0</td>\n",
       "      <td>1</td>\n",
       "      <td>0</td>\n",
       "      <td>0</td>\n",
       "      <td>0</td>\n",
       "      <td>0</td>\n",
       "      <td>14</td>\n",
       "      <td>0.142826</td>\n",
       "    </tr>\n",
       "    <tr>\n",
       "      <th>...</th>\n",
       "      <td>...</td>\n",
       "      <td>...</td>\n",
       "      <td>...</td>\n",
       "      <td>...</td>\n",
       "      <td>...</td>\n",
       "      <td>...</td>\n",
       "      <td>...</td>\n",
       "      <td>...</td>\n",
       "      <td>...</td>\n",
       "      <td>...</td>\n",
       "      <td>...</td>\n",
       "      <td>...</td>\n",
       "      <td>...</td>\n",
       "      <td>...</td>\n",
       "      <td>...</td>\n",
       "      <td>...</td>\n",
       "      <td>...</td>\n",
       "      <td>...</td>\n",
       "      <td>...</td>\n",
       "      <td>...</td>\n",
       "      <td>...</td>\n",
       "    </tr>\n",
       "    <tr>\n",
       "      <th>1883</th>\n",
       "      <td>1884</td>\n",
       "      <td>3</td>\n",
       "      <td>88</td>\n",
       "      <td>1451</td>\n",
       "      <td>75</td>\n",
       "      <td>2</td>\n",
       "      <td>0</td>\n",
       "      <td>2</td>\n",
       "      <td>2</td>\n",
       "      <td>11</td>\n",
       "      <td>...</td>\n",
       "      <td>22</td>\n",
       "      <td>0</td>\n",
       "      <td>0</td>\n",
       "      <td>1</td>\n",
       "      <td>0</td>\n",
       "      <td>0</td>\n",
       "      <td>0</td>\n",
       "      <td>0</td>\n",
       "      <td>10</td>\n",
       "      <td>0.350746</td>\n",
       "    </tr>\n",
       "    <tr>\n",
       "      <th>1884</th>\n",
       "      <td>1885</td>\n",
       "      <td>3</td>\n",
       "      <td>58</td>\n",
       "      <td>10537</td>\n",
       "      <td>40</td>\n",
       "      <td>2</td>\n",
       "      <td>0</td>\n",
       "      <td>0</td>\n",
       "      <td>2</td>\n",
       "      <td>11</td>\n",
       "      <td>...</td>\n",
       "      <td>27</td>\n",
       "      <td>0</td>\n",
       "      <td>0</td>\n",
       "      <td>0</td>\n",
       "      <td>0</td>\n",
       "      <td>0</td>\n",
       "      <td>0</td>\n",
       "      <td>0</td>\n",
       "      <td>11</td>\n",
       "      <td>0.004728</td>\n",
       "    </tr>\n",
       "    <tr>\n",
       "      <th>1885</th>\n",
       "      <td>1886</td>\n",
       "      <td>3</td>\n",
       "      <td>89</td>\n",
       "      <td>11050</td>\n",
       "      <td>26</td>\n",
       "      <td>1</td>\n",
       "      <td>0</td>\n",
       "      <td>0</td>\n",
       "      <td>15</td>\n",
       "      <td>9</td>\n",
       "      <td>...</td>\n",
       "      <td>28</td>\n",
       "      <td>0</td>\n",
       "      <td>0</td>\n",
       "      <td>0</td>\n",
       "      <td>0</td>\n",
       "      <td>0</td>\n",
       "      <td>0</td>\n",
       "      <td>0</td>\n",
       "      <td>6</td>\n",
       "      <td>0.008289</td>\n",
       "    </tr>\n",
       "    <tr>\n",
       "      <th>1886</th>\n",
       "      <td>1887</td>\n",
       "      <td>3</td>\n",
       "      <td>58</td>\n",
       "      <td>10537</td>\n",
       "      <td>40</td>\n",
       "      <td>1</td>\n",
       "      <td>0</td>\n",
       "      <td>0</td>\n",
       "      <td>2</td>\n",
       "      <td>11</td>\n",
       "      <td>...</td>\n",
       "      <td>27</td>\n",
       "      <td>0</td>\n",
       "      <td>0</td>\n",
       "      <td>0</td>\n",
       "      <td>0</td>\n",
       "      <td>0</td>\n",
       "      <td>0</td>\n",
       "      <td>0</td>\n",
       "      <td>16</td>\n",
       "      <td>0.012014</td>\n",
       "    </tr>\n",
       "    <tr>\n",
       "      <th>1887</th>\n",
       "      <td>1888</td>\n",
       "      <td>3</td>\n",
       "      <td>89</td>\n",
       "      <td>11050</td>\n",
       "      <td>26</td>\n",
       "      <td>0</td>\n",
       "      <td>0</td>\n",
       "      <td>0</td>\n",
       "      <td>15</td>\n",
       "      <td>9</td>\n",
       "      <td>...</td>\n",
       "      <td>28</td>\n",
       "      <td>0</td>\n",
       "      <td>0</td>\n",
       "      <td>0</td>\n",
       "      <td>0</td>\n",
       "      <td>0</td>\n",
       "      <td>0</td>\n",
       "      <td>0</td>\n",
       "      <td>10</td>\n",
       "      <td>0.003644</td>\n",
       "    </tr>\n",
       "  </tbody>\n",
       "</table>\n",
       "<p>1888 rows × 21 columns</p>\n",
       "</div>"
      ],
      "text/plain": [
       "      campaign_id  sender  subject_len  body_len  mean_paragraph_len  \\\n",
       "0               1       3           76     10439                  39   \n",
       "1               2       3           54      2570                 256   \n",
       "2               3       3           59     12801                  16   \n",
       "3               4       3           74     11037                  30   \n",
       "4               5       3           80     10011                  27   \n",
       "...           ...     ...          ...       ...                 ...   \n",
       "1883         1884       3           88      1451                  75   \n",
       "1884         1885       3           58     10537                  40   \n",
       "1885         1886       3           89     11050                  26   \n",
       "1886         1887       3           58     10537                  40   \n",
       "1887         1888       3           89     11050                  26   \n",
       "\n",
       "      day_of_week  is_weekend  times_of_day  category  product  ...  \\\n",
       "0               5           1             2         6       26  ...   \n",
       "1               5           1             1         2       11  ...   \n",
       "2               5           1             2         2       11  ...   \n",
       "3               4           0             0        15        9  ...   \n",
       "4               5           1             2         6       26  ...   \n",
       "...           ...         ...           ...       ...      ...  ...   \n",
       "1883            2           0             2         2       11  ...   \n",
       "1884            2           0             0         2       11  ...   \n",
       "1885            1           0             0        15        9  ...   \n",
       "1886            1           0             0         2       11  ...   \n",
       "1887            0           0             0        15        9  ...   \n",
       "\n",
       "      mean_CTA_len  is_image  is_personalised  is_quote  is_emoticons  \\\n",
       "0               29         0                0         0             0   \n",
       "1               22         0                0         0             0   \n",
       "2               23         1                0         1             0   \n",
       "3               24         0                0         0             0   \n",
       "4               31         0                0         1             0   \n",
       "...            ...       ...              ...       ...           ...   \n",
       "1883            22         0                0         1             0   \n",
       "1884            27         0                0         0             0   \n",
       "1885            28         0                0         0             0   \n",
       "1886            27         0                0         0             0   \n",
       "1887            28         0                0         0             0   \n",
       "\n",
       "      is_discount  is_price  is_urgency  target_audience  click_rate  \n",
       "0               0         0           0               14    0.103079  \n",
       "1               0         0           0               10    0.700000  \n",
       "2               0         0           0               16    0.002769  \n",
       "3               0         0           0               10    0.010868  \n",
       "4               0         0           0               14    0.142826  \n",
       "...           ...       ...         ...              ...         ...  \n",
       "1883            0         0           0               10    0.350746  \n",
       "1884            0         0           0               11    0.004728  \n",
       "1885            0         0           0                6    0.008289  \n",
       "1886            0         0           0               16    0.012014  \n",
       "1887            0         0           0               10    0.003644  \n",
       "\n",
       "[1888 rows x 21 columns]"
      ]
     },
     "execution_count": 95,
     "metadata": {},
     "output_type": "execute_result"
    }
   ],
   "source": [
    "t_data.drop(['is_timer'],axis=1)"
   ]
  },
  {
   "cell_type": "code",
   "execution_count": 96,
   "id": "a9e63b92",
   "metadata": {},
   "outputs": [],
   "source": [
    "x_=t_data.drop(['click_rate','campaign_id'],axis=1)"
   ]
  },
  {
   "cell_type": "code",
   "execution_count": 97,
   "id": "b623e3b0",
   "metadata": {},
   "outputs": [],
   "source": [
    "y_=t_data['click_rate']"
   ]
  },
  {
   "cell_type": "code",
   "execution_count": 98,
   "id": "b610de85",
   "metadata": {},
   "outputs": [
    {
     "data": {
      "text/html": [
       "<div>\n",
       "<style scoped>\n",
       "    .dataframe tbody tr th:only-of-type {\n",
       "        vertical-align: middle;\n",
       "    }\n",
       "\n",
       "    .dataframe tbody tr th {\n",
       "        vertical-align: top;\n",
       "    }\n",
       "\n",
       "    .dataframe thead th {\n",
       "        text-align: right;\n",
       "    }\n",
       "</style>\n",
       "<table border=\"1\" class=\"dataframe\">\n",
       "  <thead>\n",
       "    <tr style=\"text-align: right;\">\n",
       "      <th></th>\n",
       "      <th>campaign_id</th>\n",
       "      <th>sender</th>\n",
       "      <th>subject_len</th>\n",
       "      <th>body_len</th>\n",
       "      <th>mean_paragraph_len</th>\n",
       "      <th>day_of_week</th>\n",
       "      <th>is_weekend</th>\n",
       "      <th>times_of_day</th>\n",
       "      <th>category</th>\n",
       "      <th>product</th>\n",
       "      <th>...</th>\n",
       "      <th>is_image</th>\n",
       "      <th>is_personalised</th>\n",
       "      <th>is_quote</th>\n",
       "      <th>is_timer</th>\n",
       "      <th>is_emoticons</th>\n",
       "      <th>is_discount</th>\n",
       "      <th>is_price</th>\n",
       "      <th>is_urgency</th>\n",
       "      <th>target_audience</th>\n",
       "      <th>click_rate</th>\n",
       "    </tr>\n",
       "  </thead>\n",
       "  <tbody>\n",
       "    <tr>\n",
       "      <th>0</th>\n",
       "      <td>1</td>\n",
       "      <td>3</td>\n",
       "      <td>76</td>\n",
       "      <td>10439</td>\n",
       "      <td>39</td>\n",
       "      <td>5</td>\n",
       "      <td>1</td>\n",
       "      <td>2</td>\n",
       "      <td>6</td>\n",
       "      <td>26</td>\n",
       "      <td>...</td>\n",
       "      <td>0</td>\n",
       "      <td>0</td>\n",
       "      <td>0</td>\n",
       "      <td>0</td>\n",
       "      <td>0</td>\n",
       "      <td>0</td>\n",
       "      <td>0</td>\n",
       "      <td>0</td>\n",
       "      <td>14</td>\n",
       "      <td>0.103079</td>\n",
       "    </tr>\n",
       "    <tr>\n",
       "      <th>1</th>\n",
       "      <td>2</td>\n",
       "      <td>3</td>\n",
       "      <td>54</td>\n",
       "      <td>2570</td>\n",
       "      <td>256</td>\n",
       "      <td>5</td>\n",
       "      <td>1</td>\n",
       "      <td>1</td>\n",
       "      <td>2</td>\n",
       "      <td>11</td>\n",
       "      <td>...</td>\n",
       "      <td>0</td>\n",
       "      <td>0</td>\n",
       "      <td>0</td>\n",
       "      <td>0</td>\n",
       "      <td>0</td>\n",
       "      <td>0</td>\n",
       "      <td>0</td>\n",
       "      <td>0</td>\n",
       "      <td>10</td>\n",
       "      <td>0.700000</td>\n",
       "    </tr>\n",
       "    <tr>\n",
       "      <th>2</th>\n",
       "      <td>3</td>\n",
       "      <td>3</td>\n",
       "      <td>59</td>\n",
       "      <td>12801</td>\n",
       "      <td>16</td>\n",
       "      <td>5</td>\n",
       "      <td>1</td>\n",
       "      <td>2</td>\n",
       "      <td>2</td>\n",
       "      <td>11</td>\n",
       "      <td>...</td>\n",
       "      <td>1</td>\n",
       "      <td>0</td>\n",
       "      <td>1</td>\n",
       "      <td>0</td>\n",
       "      <td>0</td>\n",
       "      <td>0</td>\n",
       "      <td>0</td>\n",
       "      <td>0</td>\n",
       "      <td>16</td>\n",
       "      <td>0.002769</td>\n",
       "    </tr>\n",
       "    <tr>\n",
       "      <th>3</th>\n",
       "      <td>4</td>\n",
       "      <td>3</td>\n",
       "      <td>74</td>\n",
       "      <td>11037</td>\n",
       "      <td>30</td>\n",
       "      <td>4</td>\n",
       "      <td>0</td>\n",
       "      <td>0</td>\n",
       "      <td>15</td>\n",
       "      <td>9</td>\n",
       "      <td>...</td>\n",
       "      <td>0</td>\n",
       "      <td>0</td>\n",
       "      <td>0</td>\n",
       "      <td>0</td>\n",
       "      <td>0</td>\n",
       "      <td>0</td>\n",
       "      <td>0</td>\n",
       "      <td>0</td>\n",
       "      <td>10</td>\n",
       "      <td>0.010868</td>\n",
       "    </tr>\n",
       "    <tr>\n",
       "      <th>4</th>\n",
       "      <td>5</td>\n",
       "      <td>3</td>\n",
       "      <td>80</td>\n",
       "      <td>10011</td>\n",
       "      <td>27</td>\n",
       "      <td>5</td>\n",
       "      <td>1</td>\n",
       "      <td>2</td>\n",
       "      <td>6</td>\n",
       "      <td>26</td>\n",
       "      <td>...</td>\n",
       "      <td>0</td>\n",
       "      <td>0</td>\n",
       "      <td>1</td>\n",
       "      <td>0</td>\n",
       "      <td>0</td>\n",
       "      <td>0</td>\n",
       "      <td>0</td>\n",
       "      <td>0</td>\n",
       "      <td>14</td>\n",
       "      <td>0.142826</td>\n",
       "    </tr>\n",
       "  </tbody>\n",
       "</table>\n",
       "<p>5 rows × 22 columns</p>\n",
       "</div>"
      ],
      "text/plain": [
       "   campaign_id  sender  subject_len  body_len  mean_paragraph_len  \\\n",
       "0            1       3           76     10439                  39   \n",
       "1            2       3           54      2570                 256   \n",
       "2            3       3           59     12801                  16   \n",
       "3            4       3           74     11037                  30   \n",
       "4            5       3           80     10011                  27   \n",
       "\n",
       "   day_of_week  is_weekend  times_of_day  category  product  ...  is_image  \\\n",
       "0            5           1             2         6       26  ...         0   \n",
       "1            5           1             1         2       11  ...         0   \n",
       "2            5           1             2         2       11  ...         1   \n",
       "3            4           0             0        15        9  ...         0   \n",
       "4            5           1             2         6       26  ...         0   \n",
       "\n",
       "   is_personalised  is_quote  is_timer  is_emoticons  is_discount  is_price  \\\n",
       "0                0         0         0             0            0         0   \n",
       "1                0         0         0             0            0         0   \n",
       "2                0         1         0             0            0         0   \n",
       "3                0         0         0             0            0         0   \n",
       "4                0         1         0             0            0         0   \n",
       "\n",
       "   is_urgency  target_audience  click_rate  \n",
       "0           0               14    0.103079  \n",
       "1           0               10    0.700000  \n",
       "2           0               16    0.002769  \n",
       "3           0               10    0.010868  \n",
       "4           0               14    0.142826  \n",
       "\n",
       "[5 rows x 22 columns]"
      ]
     },
     "execution_count": 98,
     "metadata": {},
     "output_type": "execute_result"
    }
   ],
   "source": [
    "t_data.head()"
   ]
  },
  {
   "cell_type": "code",
   "execution_count": null,
   "id": "92319514",
   "metadata": {},
   "outputs": [],
   "source": []
  },
  {
   "cell_type": "code",
   "execution_count": null,
   "id": "ae38df34",
   "metadata": {},
   "outputs": [],
   "source": []
  },
  {
   "cell_type": "code",
   "execution_count": null,
   "id": "1190a448",
   "metadata": {},
   "outputs": [],
   "source": []
  },
  {
   "cell_type": "code",
   "execution_count": null,
   "id": "599d6559",
   "metadata": {},
   "outputs": [],
   "source": []
  },
  {
   "cell_type": "code",
   "execution_count": null,
   "id": "ecad9482",
   "metadata": {},
   "outputs": [],
   "source": []
  },
  {
   "cell_type": "code",
   "execution_count": null,
   "id": "97f7d947",
   "metadata": {},
   "outputs": [],
   "source": []
  },
  {
   "cell_type": "code",
   "execution_count": null,
   "id": "b89638f2",
   "metadata": {},
   "outputs": [],
   "source": []
  },
  {
   "cell_type": "code",
   "execution_count": 99,
   "id": "187da162",
   "metadata": {},
   "outputs": [
    {
     "ename": "SyntaxError",
     "evalue": "invalid syntax (Temp/ipykernel_5376/2986690808.py, line 1)",
     "output_type": "error",
     "traceback": [
      "\u001b[1;36m  File \u001b[1;32m\"C:\\Users\\admin\\AppData\\Local\\Temp/ipykernel_5376/2986690808.py\"\u001b[1;36m, line \u001b[1;32m1\u001b[0m\n\u001b[1;33m    sample_data=\u001b[0m\n\u001b[1;37m                ^\u001b[0m\n\u001b[1;31mSyntaxError\u001b[0m\u001b[1;31m:\u001b[0m invalid syntax\n"
     ]
    }
   ],
   "source": [
    "sample_data="
   ]
  },
  {
   "cell_type": "code",
   "execution_count": null,
   "id": "a665d034",
   "metadata": {},
   "outputs": [],
   "source": []
  },
  {
   "cell_type": "code",
   "execution_count": null,
   "id": "39aca971",
   "metadata": {},
   "outputs": [],
   "source": []
  },
  {
   "cell_type": "code",
   "execution_count": null,
   "id": "b97c1b25",
   "metadata": {},
   "outputs": [],
   "source": []
  },
  {
   "cell_type": "code",
   "execution_count": null,
   "id": "9cd6ad7b",
   "metadata": {},
   "outputs": [],
   "source": []
  },
  {
   "cell_type": "markdown",
   "id": "df103921",
   "metadata": {},
   "source": []
  },
  {
   "cell_type": "code",
   "execution_count": null,
   "id": "0e3c4b3d",
   "metadata": {},
   "outputs": [],
   "source": []
  },
  {
   "cell_type": "code",
   "execution_count": null,
   "id": "fcc6457a",
   "metadata": {},
   "outputs": [],
   "source": []
  },
  {
   "cell_type": "code",
   "execution_count": null,
   "id": "b6147031",
   "metadata": {},
   "outputs": [],
   "source": []
  },
  {
   "cell_type": "code",
   "execution_count": null,
   "id": "a6b2bbfd",
   "metadata": {},
   "outputs": [],
   "source": []
  },
  {
   "cell_type": "code",
   "execution_count": null,
   "id": "77e1319f",
   "metadata": {},
   "outputs": [],
   "source": []
  },
  {
   "cell_type": "code",
   "execution_count": null,
   "id": "7faea722",
   "metadata": {},
   "outputs": [],
   "source": []
  },
  {
   "cell_type": "code",
   "execution_count": null,
   "id": "ae1abb69",
   "metadata": {},
   "outputs": [],
   "source": []
  },
  {
   "cell_type": "code",
   "execution_count": null,
   "id": "fc8e7a02",
   "metadata": {},
   "outputs": [],
   "source": []
  },
  {
   "cell_type": "code",
   "execution_count": null,
   "id": "7733c8e6",
   "metadata": {},
   "outputs": [],
   "source": []
  },
  {
   "cell_type": "code",
   "execution_count": null,
   "id": "6ff02e37",
   "metadata": {},
   "outputs": [],
   "source": []
  },
  {
   "cell_type": "code",
   "execution_count": null,
   "id": "a6b82a78",
   "metadata": {},
   "outputs": [],
   "source": []
  },
  {
   "cell_type": "code",
   "execution_count": null,
   "id": "f53aba48",
   "metadata": {},
   "outputs": [],
   "source": []
  },
  {
   "cell_type": "code",
   "execution_count": null,
   "id": "95afc88a",
   "metadata": {},
   "outputs": [],
   "source": []
  },
  {
   "cell_type": "code",
   "execution_count": null,
   "id": "1b98a6f7",
   "metadata": {},
   "outputs": [],
   "source": []
  },
  {
   "cell_type": "code",
   "execution_count": null,
   "id": "6ff12a96",
   "metadata": {
    "scrolled": true
   },
   "outputs": [],
   "source": []
  },
  {
   "cell_type": "code",
   "execution_count": null,
   "id": "81865d63",
   "metadata": {},
   "outputs": [],
   "source": []
  },
  {
   "cell_type": "code",
   "execution_count": null,
   "id": "7fffb4d9",
   "metadata": {},
   "outputs": [],
   "source": []
  },
  {
   "cell_type": "code",
   "execution_count": null,
   "id": "5cfa378d",
   "metadata": {},
   "outputs": [],
   "source": []
  },
  {
   "cell_type": "code",
   "execution_count": null,
   "id": "8be1ba33",
   "metadata": {},
   "outputs": [],
   "source": []
  },
  {
   "cell_type": "code",
   "execution_count": null,
   "id": "54c9e8a5",
   "metadata": {},
   "outputs": [],
   "source": []
  },
  {
   "cell_type": "code",
   "execution_count": null,
   "id": "035c517c",
   "metadata": {},
   "outputs": [],
   "source": []
  },
  {
   "cell_type": "code",
   "execution_count": null,
   "id": "b339c29d",
   "metadata": {},
   "outputs": [],
   "source": []
  },
  {
   "cell_type": "code",
   "execution_count": null,
   "id": "6d9a3ee4",
   "metadata": {},
   "outputs": [],
   "source": []
  },
  {
   "cell_type": "code",
   "execution_count": null,
   "id": "86a1943b",
   "metadata": {},
   "outputs": [],
   "source": []
  },
  {
   "cell_type": "code",
   "execution_count": null,
   "id": "ee9bdbb2",
   "metadata": {},
   "outputs": [],
   "source": []
  },
  {
   "cell_type": "code",
   "execution_count": null,
   "id": "328695eb",
   "metadata": {},
   "outputs": [],
   "source": []
  },
  {
   "cell_type": "code",
   "execution_count": null,
   "id": "5375247a",
   "metadata": {},
   "outputs": [],
   "source": []
  },
  {
   "cell_type": "code",
   "execution_count": null,
   "id": "9c193930",
   "metadata": {},
   "outputs": [],
   "source": []
  },
  {
   "cell_type": "code",
   "execution_count": null,
   "id": "e617c6e0",
   "metadata": {},
   "outputs": [],
   "source": []
  },
  {
   "cell_type": "code",
   "execution_count": null,
   "id": "358b9ea8",
   "metadata": {},
   "outputs": [],
   "source": []
  },
  {
   "cell_type": "code",
   "execution_count": null,
   "id": "e3be86f5",
   "metadata": {},
   "outputs": [],
   "source": []
  },
  {
   "cell_type": "code",
   "execution_count": null,
   "id": "e6c6e8bf",
   "metadata": {},
   "outputs": [],
   "source": []
  },
  {
   "cell_type": "code",
   "execution_count": null,
   "id": "7f95b95a",
   "metadata": {},
   "outputs": [],
   "source": []
  }
 ],
 "metadata": {
  "kernelspec": {
   "display_name": "Python 3 (ipykernel)",
   "language": "python",
   "name": "python3"
  },
  "language_info": {
   "codemirror_mode": {
    "name": "ipython",
    "version": 3
   },
   "file_extension": ".py",
   "mimetype": "text/x-python",
   "name": "python",
   "nbconvert_exporter": "python",
   "pygments_lexer": "ipython3",
   "version": "3.9.7"
  }
 },
 "nbformat": 4,
 "nbformat_minor": 5
}
